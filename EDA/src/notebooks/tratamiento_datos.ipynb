{
 "cells": [
  {
   "cell_type": "markdown",
   "id": "343f3569",
   "metadata": {},
   "source": [
    "# 📚 DATOS EDA: Cultura y Ocio"
   ]
  },
  {
   "cell_type": "markdown",
   "id": "d55f5352",
   "metadata": {},
   "source": [
    "### Unificar datos como inicio"
   ]
  },
  {
   "cell_type": "code",
   "execution_count": null,
   "id": "706a3733",
   "metadata": {},
   "outputs": [],
   "source": [
    "import pandas as pd\n",
    "\n",
    "# Lista de archivos a combinar\n",
    "archivos_excel = ['../data/datasets/ingresos.csv', '../data/datasets/caracteristicas.csv','../data/datasets/bienesyservicios.csv', '../data/datasets/libros.csv', '../data/datasets/espectaculos.csv', '../data/datasets/educacion.csv', '../data/datasets/renta.csv']  # Reemplaza con los nombres de tus archivos\n",
    "\n",
    "# Diccionario para almacenar cada archivo como una hoja\n",
    "hojas = {}\n",
    "\n",
    "# Iterar sobre los archivos y cargarlos en el diccionario\n",
    "for archivo in archivos_excel:\n",
    "    # Cargar el archivo en un DataFrame\n",
    "    df = pd.read_csv(archivo, sep=\";\", encoding=\"latin1\")\n",
    "    \n",
    "    # Usar el nombre del archivo (sin la extensión) como el nombre de la hoja\n",
    "    nombre_hoja = archivo.split('/')[-1].replace('.csv', '')\n",
    "    \n",
    "    # Guardar el DataFrame en el diccionario con el nombre de la hoja\n",
    "    hojas[nombre_hoja] = df\n",
    "\n",
    "# Guardar todo en un solo archivo Excel con varias hojas\n",
    "with pd.ExcelWriter('../data/datos.xlsx') as writer:\n",
    "    for nombre_hoja, df in hojas.items():\n",
    "        df.to_excel(writer, sheet_name=nombre_hoja,index=False)"
   ]
  },
  {
   "cell_type": "markdown",
   "id": "95b1cbe7",
   "metadata": {},
   "source": [
    "### Cargar las hojas y tratar datos"
   ]
  },
  {
   "cell_type": "code",
   "execution_count": null,
   "id": "81823153",
   "metadata": {},
   "outputs": [],
   "source": [
    "# Cargar el Excel\n",
    "archivo = \"../data/datos.xlsx\"\n",
    "xlsx = pd.ExcelFile(archivo)\n",
    "\n",
    "# Cargar cada hoja\n",
    "libros = xlsx.parse(\"libros\")\n",
    "espectaculos = xlsx.parse(\"espectaculos\")\n",
    "educacion = xlsx.parse(\"educacion\")\n",
    "bys = xlsx.parse(\"bienesyservicios\")\n",
    "renta = xlsx.parse(\"renta\")\n",
    "\n",
    "#diferentes\n",
    "ingresos = xlsx.parse(\"ingresos\")\n",
    "caracteristicas = xlsx.parse(\"caracteristicas\")\n",
    "\n",
    "#1) Unificar por Año y CCAA \n",
    "# Nos aseguramos de que tengan las columnas comunes con el mismo nombre\n",
    "#Hay que tratar educacion pues los años se dividen en trimestres y la columna de CCAA también es diferente\n",
    "educacion.rename(columns={'Periodo': 'Año'}, inplace=True)\n",
    "educacion['periodo'] = educacion['Año'].str.extract(r'(\\d{4})')  # Extrae los 4 primeros dígitos\n",
    "\n",
    "educacion.rename(columns={'Comunidades y Ciudades Autónomas': 'Comunidad autónoma'}, inplace=True)\n",
    "comunidad_sin_num = []\n",
    "\n",
    "for texto in educacion['Comunidad autónoma']:\n",
    "    partes = texto.split(\" \", 1)  \n",
    "    comunidad_sin_num.append(partes[1])  \n",
    "\n",
    "\n",
    "educacion['Comunidad autónoma'] = comunidad_sin_num\n"
   ]
  },
  {
   "cell_type": "markdown",
   "id": "bdaec10f",
   "metadata": {},
   "source": [
    "## 📖 Libros"
   ]
  },
  {
   "cell_type": "code",
   "execution_count": 3,
   "id": "fbfdbfcc",
   "metadata": {},
   "outputs": [],
   "source": [
    "libros.rename(columns={'Indicador': 'Indicador_libros', 'Grupo de gasto': 'Grupo de gasto_libros', 'Total': 'Total_libros'}, inplace=True)\n",
    "libros = libros[['periodo','Comunidad autónoma', 'Grupo de gasto_libros', 'Indicador_libros', 'Total_libros']]"
   ]
  },
  {
   "cell_type": "code",
   "execution_count": 4,
   "id": "7f577e24",
   "metadata": {},
   "outputs": [
    {
     "name": "stdout",
     "output_type": "stream",
     "text": [
      "<class 'pandas.core.frame.DataFrame'>\n",
      "RangeIndex: 1152 entries, 0 to 1151\n",
      "Data columns (total 5 columns):\n",
      " #   Column                 Non-Null Count  Dtype \n",
      "---  ------                 --------------  ----- \n",
      " 0   periodo                1152 non-null   int64 \n",
      " 1   Comunidad autónoma     1152 non-null   object\n",
      " 2   Grupo de gasto_libros  1152 non-null   object\n",
      " 3   Indicador_libros       1152 non-null   object\n",
      " 4   Total_libros           1152 non-null   object\n",
      "dtypes: int64(1), object(4)\n",
      "memory usage: 45.1+ KB\n"
     ]
    }
   ],
   "source": [
    "libros.info()"
   ]
  },
  {
   "cell_type": "code",
   "execution_count": 5,
   "id": "f411fa8c",
   "metadata": {},
   "outputs": [
    {
     "data": {
      "text/plain": [
       "periodo                                       2023\n",
       "Comunidad autónoma                 Ceuta y Melilla\n",
       "Grupo de gasto_libros                        Libro\n",
       "Indicador_libros         TOTAL (Millones de euros)\n",
       "Total_libros                                    ..\n",
       "Name: 272, dtype: object"
      ]
     },
     "execution_count": 5,
     "metadata": {},
     "output_type": "execute_result"
    }
   ],
   "source": [
    "libros.iloc[272]"
   ]
  },
  {
   "cell_type": "code",
   "execution_count": 6,
   "id": "f5e5b7ee",
   "metadata": {},
   "outputs": [],
   "source": [
    "# Reemplazar comas por puntos\n",
    "libros[\"Total_libros\"] = libros[\"Total_libros\"].str.replace(',', '.')\n",
    "\n",
    "# Convertir a numérico (y evitar errores cuando hay valores como '..' ) \n",
    "# Obtendremos NaN pero luego se eliminará Ceuta y Melilla\n",
    "libros[\"Total_libros\"] = pd.to_numeric(libros[\"Total_libros\"], errors=\"coerce\")"
   ]
  },
  {
   "cell_type": "code",
   "execution_count": 7,
   "id": "c7290bf5",
   "metadata": {},
   "outputs": [
    {
     "name": "stdout",
     "output_type": "stream",
     "text": [
      "<class 'pandas.core.frame.DataFrame'>\n",
      "RangeIndex: 1152 entries, 0 to 1151\n",
      "Data columns (total 5 columns):\n",
      " #   Column                 Non-Null Count  Dtype  \n",
      "---  ------                 --------------  -----  \n",
      " 0   periodo                1152 non-null   int64  \n",
      " 1   Comunidad autónoma     1152 non-null   object \n",
      " 2   Grupo de gasto_libros  1152 non-null   object \n",
      " 3   Indicador_libros       1152 non-null   object \n",
      " 4   Total_libros           1088 non-null   float64\n",
      "dtypes: float64(1), int64(1), object(3)\n",
      "memory usage: 45.1+ KB\n"
     ]
    }
   ],
   "source": [
    "libros.info() #Las columnas son del tipo correspondiente"
   ]
  },
  {
   "cell_type": "code",
   "execution_count": 8,
   "id": "ddda7126",
   "metadata": {},
   "outputs": [
    {
     "data": {
      "text/plain": [
       "array([2023, 2022, 2021, 2020, 2019, 2018, 2017, 2016])"
      ]
     },
     "execution_count": 8,
     "metadata": {},
     "output_type": "execute_result"
    }
   ],
   "source": [
    "libros[\"periodo\"].unique()"
   ]
  },
  {
   "cell_type": "code",
   "execution_count": 9,
   "id": "d0fb3e3e",
   "metadata": {},
   "outputs": [],
   "source": [
    "libros = libros[libros[\"periodo\"] >= 2021]"
   ]
  },
  {
   "cell_type": "markdown",
   "id": "014b8500",
   "metadata": {},
   "source": [
    "Cardinalidad"
   ]
  },
  {
   "cell_type": "code",
   "execution_count": 10,
   "id": "66930b2e",
   "metadata": {},
   "outputs": [],
   "source": [
    "cardinalidad_por_columna = pd.Series()\n",
    "for columna in libros:\n",
    "    cardinalidad_por_columna[columna] = round(libros[columna].nunique(dropna=False) / len(libros),2)*100"
   ]
  },
  {
   "cell_type": "code",
   "execution_count": 11,
   "id": "2131178b",
   "metadata": {},
   "outputs": [
    {
     "data": {
      "text/plain": [
       "periodo                   1.0\n",
       "Comunidad autónoma        4.0\n",
       "Grupo de gasto_libros     0.0\n",
       "Indicador_libros          1.0\n",
       "Total_libros             75.0\n",
       "dtype: float64"
      ]
     },
     "execution_count": 11,
     "metadata": {},
     "output_type": "execute_result"
    }
   ],
   "source": [
    "cardinalidad_por_columna #ninguna columna es un buen índice"
   ]
  },
  {
   "cell_type": "code",
   "execution_count": 12,
   "id": "9f24f3de",
   "metadata": {},
   "outputs": [
    {
     "data": {
      "text/plain": [
       "array(['Andalucía', 'Aragón', 'Asturias (Principado de)',\n",
       "       'Balears (Illes)', 'Canarias', 'Cantabria', 'Castilla y León',\n",
       "       'Castilla-La Mancha', 'Cataluña', 'Comunitat Valenciana',\n",
       "       'Extremadura', 'Galicia', 'Madrid (Comunidad de)',\n",
       "       'Murcia (Región de)', 'Navarra (Comunidad Foral de)', 'País Vasco',\n",
       "       'Rioja (La)', 'Ceuta y Melilla'], dtype=object)"
      ]
     },
     "execution_count": 12,
     "metadata": {},
     "output_type": "execute_result"
    }
   ],
   "source": [
    "libros[\"Comunidad autónoma\"].unique() #no todas las tablas tiene datos de Ceuta y Melilla"
   ]
  },
  {
   "cell_type": "code",
   "execution_count": 13,
   "id": "fb7f0419",
   "metadata": {},
   "outputs": [],
   "source": [
    "libros = libros[libros['Comunidad autónoma'] != \"Ceuta y Melilla\"]"
   ]
  },
  {
   "cell_type": "code",
   "execution_count": 14,
   "id": "bd67d217",
   "metadata": {},
   "outputs": [
    {
     "data": {
      "text/plain": [
       "array(['TOTAL (Millones de euros)', 'GASTO MEDIO POR HOGAR (Euros)',\n",
       "       'GASTO MEDIO POR UNIDAD DE CONSUMO (Euros)',\n",
       "       'GASTO MEDIO POR PERSONA (Euros)'], dtype=object)"
      ]
     },
     "execution_count": 14,
     "metadata": {},
     "output_type": "execute_result"
    }
   ],
   "source": [
    "libros[\"Indicador_libros\"].unique()"
   ]
  },
  {
   "cell_type": "code",
   "execution_count": 15,
   "id": "d5492b76",
   "metadata": {},
   "outputs": [],
   "source": [
    "libros = libros[libros['Indicador_libros'] != \"GASTO MEDIO POR UNIDAD DE CONSUMO (Euros)\"]"
   ]
  },
  {
   "cell_type": "code",
   "execution_count": 16,
   "id": "f12a73cd",
   "metadata": {},
   "outputs": [
    {
     "name": "stdout",
     "output_type": "stream",
     "text": [
      "<class 'pandas.core.frame.DataFrame'>\n",
      "Index: 306 entries, 0 to 1130\n",
      "Data columns (total 5 columns):\n",
      " #   Column                 Non-Null Count  Dtype  \n",
      "---  ------                 --------------  -----  \n",
      " 0   periodo                306 non-null    int64  \n",
      " 1   Comunidad autónoma     306 non-null    object \n",
      " 2   Grupo de gasto_libros  306 non-null    object \n",
      " 3   Indicador_libros       306 non-null    object \n",
      " 4   Total_libros           306 non-null    float64\n",
      "dtypes: float64(1), int64(1), object(3)\n",
      "memory usage: 14.3+ KB\n"
     ]
    }
   ],
   "source": [
    "libros.info()"
   ]
  },
  {
   "cell_type": "code",
   "execution_count": 17,
   "id": "7d01966b",
   "metadata": {},
   "outputs": [
    {
     "data": {
      "text/html": [
       "<div>\n",
       "<style scoped>\n",
       "    .dataframe tbody tr th:only-of-type {\n",
       "        vertical-align: middle;\n",
       "    }\n",
       "\n",
       "    .dataframe tbody tr th {\n",
       "        vertical-align: top;\n",
       "    }\n",
       "\n",
       "    .dataframe thead th {\n",
       "        text-align: right;\n",
       "    }\n",
       "</style>\n",
       "<table border=\"1\" class=\"dataframe\">\n",
       "  <thead>\n",
       "    <tr style=\"text-align: right;\">\n",
       "      <th></th>\n",
       "      <th>periodo</th>\n",
       "      <th>Comunidad autónoma</th>\n",
       "      <th>Grupo de gasto_libros</th>\n",
       "      <th>Indicador_libros</th>\n",
       "      <th>Total_libros</th>\n",
       "    </tr>\n",
       "  </thead>\n",
       "  <tbody>\n",
       "    <tr>\n",
       "      <th>0</th>\n",
       "      <td>2023</td>\n",
       "      <td>Andalucía</td>\n",
       "      <td>Libro</td>\n",
       "      <td>TOTAL (Millones de euros)</td>\n",
       "      <td>181.5</td>\n",
       "    </tr>\n",
       "    <tr>\n",
       "      <th>288</th>\n",
       "      <td>2023</td>\n",
       "      <td>Andalucía</td>\n",
       "      <td>Libro</td>\n",
       "      <td>GASTO MEDIO POR HOGAR (Euros)</td>\n",
       "      <td>54.0</td>\n",
       "    </tr>\n",
       "    <tr>\n",
       "      <th>864</th>\n",
       "      <td>2023</td>\n",
       "      <td>Andalucía</td>\n",
       "      <td>Libro</td>\n",
       "      <td>GASTO MEDIO POR PERSONA (Euros)</td>\n",
       "      <td>21.2</td>\n",
       "    </tr>\n",
       "    <tr>\n",
       "      <th>8</th>\n",
       "      <td>2023</td>\n",
       "      <td>Andalucía</td>\n",
       "      <td>Publicaciones periódicas</td>\n",
       "      <td>TOTAL (Millones de euros)</td>\n",
       "      <td>40.9</td>\n",
       "    </tr>\n",
       "    <tr>\n",
       "      <th>296</th>\n",
       "      <td>2023</td>\n",
       "      <td>Andalucía</td>\n",
       "      <td>Publicaciones periódicas</td>\n",
       "      <td>GASTO MEDIO POR HOGAR (Euros)</td>\n",
       "      <td>12.2</td>\n",
       "    </tr>\n",
       "    <tr>\n",
       "      <th>872</th>\n",
       "      <td>2023</td>\n",
       "      <td>Andalucía</td>\n",
       "      <td>Publicaciones periódicas</td>\n",
       "      <td>GASTO MEDIO POR PERSONA (Euros)</td>\n",
       "      <td>4.8</td>\n",
       "    </tr>\n",
       "    <tr>\n",
       "      <th>16</th>\n",
       "      <td>2023</td>\n",
       "      <td>Aragón</td>\n",
       "      <td>Libro</td>\n",
       "      <td>TOTAL (Millones de euros)</td>\n",
       "      <td>60.3</td>\n",
       "    </tr>\n",
       "    <tr>\n",
       "      <th>304</th>\n",
       "      <td>2023</td>\n",
       "      <td>Aragón</td>\n",
       "      <td>Libro</td>\n",
       "      <td>GASTO MEDIO POR HOGAR (Euros)</td>\n",
       "      <td>107.9</td>\n",
       "    </tr>\n",
       "    <tr>\n",
       "      <th>880</th>\n",
       "      <td>2023</td>\n",
       "      <td>Aragón</td>\n",
       "      <td>Libro</td>\n",
       "      <td>GASTO MEDIO POR PERSONA (Euros)</td>\n",
       "      <td>45.3</td>\n",
       "    </tr>\n",
       "    <tr>\n",
       "      <th>24</th>\n",
       "      <td>2023</td>\n",
       "      <td>Aragón</td>\n",
       "      <td>Publicaciones periódicas</td>\n",
       "      <td>TOTAL (Millones de euros)</td>\n",
       "      <td>18.4</td>\n",
       "    </tr>\n",
       "  </tbody>\n",
       "</table>\n",
       "</div>"
      ],
      "text/plain": [
       "     periodo Comunidad autónoma     Grupo de gasto_libros  \\\n",
       "0       2023          Andalucía                     Libro   \n",
       "288     2023          Andalucía                     Libro   \n",
       "864     2023          Andalucía                     Libro   \n",
       "8       2023          Andalucía  Publicaciones periódicas   \n",
       "296     2023          Andalucía  Publicaciones periódicas   \n",
       "872     2023          Andalucía  Publicaciones periódicas   \n",
       "16      2023             Aragón                     Libro   \n",
       "304     2023             Aragón                     Libro   \n",
       "880     2023             Aragón                     Libro   \n",
       "24      2023             Aragón  Publicaciones periódicas   \n",
       "\n",
       "                    Indicador_libros  Total_libros  \n",
       "0          TOTAL (Millones de euros)         181.5  \n",
       "288    GASTO MEDIO POR HOGAR (Euros)          54.0  \n",
       "864  GASTO MEDIO POR PERSONA (Euros)          21.2  \n",
       "8          TOTAL (Millones de euros)          40.9  \n",
       "296    GASTO MEDIO POR HOGAR (Euros)          12.2  \n",
       "872  GASTO MEDIO POR PERSONA (Euros)           4.8  \n",
       "16         TOTAL (Millones de euros)          60.3  \n",
       "304    GASTO MEDIO POR HOGAR (Euros)         107.9  \n",
       "880  GASTO MEDIO POR PERSONA (Euros)          45.3  \n",
       "24         TOTAL (Millones de euros)          18.4  "
      ]
     },
     "execution_count": 17,
     "metadata": {},
     "output_type": "execute_result"
    }
   ],
   "source": [
    "libros.sort_values(by= [\"periodo\",\"Comunidad autónoma\",\"Grupo de gasto_libros\"], ascending=[False, True, True], inplace=True)\n",
    "libros.head(10)"
   ]
  },
  {
   "cell_type": "markdown",
   "id": "2b8b7d3a",
   "metadata": {},
   "source": [
    "## 🎭 Espectáculos"
   ]
  },
  {
   "cell_type": "code",
   "execution_count": 18,
   "id": "5175987f",
   "metadata": {},
   "outputs": [],
   "source": [
    "espectaculos.rename(columns={'Indicador': 'Indicador_espectaculos', 'Total': 'Total_espectaculos'}, inplace=True)\n",
    "espectaculos = espectaculos[['periodo','Comunidad autónoma','Indicador_espectaculos', 'Total_espectaculos']]"
   ]
  },
  {
   "cell_type": "code",
   "execution_count": 19,
   "id": "c75d25ab",
   "metadata": {},
   "outputs": [
    {
     "name": "stdout",
     "output_type": "stream",
     "text": [
      "<class 'pandas.core.frame.DataFrame'>\n",
      "RangeIndex: 576 entries, 0 to 575\n",
      "Data columns (total 4 columns):\n",
      " #   Column                  Non-Null Count  Dtype \n",
      "---  ------                  --------------  ----- \n",
      " 0   periodo                 576 non-null    int64 \n",
      " 1   Comunidad autónoma      576 non-null    object\n",
      " 2   Indicador_espectaculos  576 non-null    object\n",
      " 3   Total_espectaculos      576 non-null    object\n",
      "dtypes: int64(1), object(3)\n",
      "memory usage: 18.1+ KB\n"
     ]
    }
   ],
   "source": [
    "espectaculos.info()"
   ]
  },
  {
   "cell_type": "code",
   "execution_count": 20,
   "id": "82dffcea",
   "metadata": {},
   "outputs": [],
   "source": [
    "# Reemplazar comas por puntos\n",
    "espectaculos[\"Total_espectaculos\"] = espectaculos[\"Total_espectaculos\"].str.replace(',', '.')\n",
    "\n",
    "# Convertir a numérico (y evitar errores cuando hay valores como '..' )\n",
    "espectaculos[\"Total_espectaculos\"] = pd.to_numeric(espectaculos[\"Total_espectaculos\"], errors='coerce')"
   ]
  },
  {
   "cell_type": "code",
   "execution_count": 21,
   "id": "7cac3d77",
   "metadata": {},
   "outputs": [
    {
     "name": "stdout",
     "output_type": "stream",
     "text": [
      "<class 'pandas.core.frame.DataFrame'>\n",
      "RangeIndex: 576 entries, 0 to 575\n",
      "Data columns (total 4 columns):\n",
      " #   Column                  Non-Null Count  Dtype  \n",
      "---  ------                  --------------  -----  \n",
      " 0   periodo                 576 non-null    int64  \n",
      " 1   Comunidad autónoma      576 non-null    object \n",
      " 2   Indicador_espectaculos  576 non-null    object \n",
      " 3   Total_espectaculos      544 non-null    float64\n",
      "dtypes: float64(1), int64(1), object(2)\n",
      "memory usage: 18.1+ KB\n"
     ]
    }
   ],
   "source": [
    "espectaculos.info() #Las columnas son del tipo correspondiente"
   ]
  },
  {
   "cell_type": "code",
   "execution_count": 22,
   "id": "f5cd25c6",
   "metadata": {},
   "outputs": [
    {
     "data": {
      "text/plain": [
       "array([2023, 2022, 2021, 2020, 2019, 2018, 2017, 2016])"
      ]
     },
     "execution_count": 22,
     "metadata": {},
     "output_type": "execute_result"
    }
   ],
   "source": [
    "espectaculos[\"periodo\"].unique()"
   ]
  },
  {
   "cell_type": "code",
   "execution_count": 23,
   "id": "55ca4d8e",
   "metadata": {},
   "outputs": [],
   "source": [
    "espectaculos = espectaculos[espectaculos[\"periodo\"] >= 2021]"
   ]
  },
  {
   "cell_type": "code",
   "execution_count": 24,
   "id": "5c7afb1e",
   "metadata": {},
   "outputs": [
    {
     "data": {
      "text/plain": [
       "array(['Andalucía', 'Aragón', 'Asturias (Principado de)',\n",
       "       'Balears (Illes)', 'Canarias', 'Cantabria', 'Castilla y León',\n",
       "       'Castilla-La Mancha', 'Cataluña', 'Comunitat Valenciana',\n",
       "       'Extremadura', 'Galicia', 'Madrid (Comunidad de)',\n",
       "       'Murcia (Región de)', 'Navarra (Comunidad Foral de)', 'País Vasco',\n",
       "       'Rioja (La)', 'Ceuta y Melilla'], dtype=object)"
      ]
     },
     "execution_count": 24,
     "metadata": {},
     "output_type": "execute_result"
    }
   ],
   "source": [
    "espectaculos[\"Comunidad autónoma\"].unique()"
   ]
  },
  {
   "cell_type": "code",
   "execution_count": 25,
   "id": "fac4cec9",
   "metadata": {},
   "outputs": [],
   "source": [
    "espectaculos = espectaculos[espectaculos['Comunidad autónoma'] != \"Ceuta y Melilla\"]"
   ]
  },
  {
   "cell_type": "code",
   "execution_count": 26,
   "id": "96390cc8",
   "metadata": {},
   "outputs": [
    {
     "data": {
      "text/plain": [
       "array(['TOTAL (Millones de euros)', 'GASTO MEDIO POR HOGAR (Euros)',\n",
       "       'GASTO MEDIO POR UNIDAD DE CONSUMO (Euros)',\n",
       "       'GASTO MEDIO POR PERSONA (Euros)'], dtype=object)"
      ]
     },
     "execution_count": 26,
     "metadata": {},
     "output_type": "execute_result"
    }
   ],
   "source": [
    "espectaculos[\"Indicador_espectaculos\"].unique()"
   ]
  },
  {
   "cell_type": "code",
   "execution_count": 27,
   "id": "8de910e3",
   "metadata": {},
   "outputs": [],
   "source": [
    "espectaculos = espectaculos[espectaculos['Indicador_espectaculos'] != \"GASTO MEDIO POR UNIDAD DE CONSUMO (Euros)\"]"
   ]
  },
  {
   "cell_type": "code",
   "execution_count": 28,
   "id": "3c0e5b95",
   "metadata": {},
   "outputs": [
    {
     "name": "stdout",
     "output_type": "stream",
     "text": [
      "<class 'pandas.core.frame.DataFrame'>\n",
      "Index: 153 entries, 0 to 562\n",
      "Data columns (total 4 columns):\n",
      " #   Column                  Non-Null Count  Dtype  \n",
      "---  ------                  --------------  -----  \n",
      " 0   periodo                 153 non-null    int64  \n",
      " 1   Comunidad autónoma      153 non-null    object \n",
      " 2   Indicador_espectaculos  153 non-null    object \n",
      " 3   Total_espectaculos      153 non-null    float64\n",
      "dtypes: float64(1), int64(1), object(2)\n",
      "memory usage: 6.0+ KB\n"
     ]
    }
   ],
   "source": [
    "espectaculos.info()"
   ]
  },
  {
   "cell_type": "code",
   "execution_count": 29,
   "id": "19a44bf3",
   "metadata": {},
   "outputs": [
    {
     "data": {
      "text/html": [
       "<div>\n",
       "<style scoped>\n",
       "    .dataframe tbody tr th:only-of-type {\n",
       "        vertical-align: middle;\n",
       "    }\n",
       "\n",
       "    .dataframe tbody tr th {\n",
       "        vertical-align: top;\n",
       "    }\n",
       "\n",
       "    .dataframe thead th {\n",
       "        text-align: right;\n",
       "    }\n",
       "</style>\n",
       "<table border=\"1\" class=\"dataframe\">\n",
       "  <thead>\n",
       "    <tr style=\"text-align: right;\">\n",
       "      <th></th>\n",
       "      <th>periodo</th>\n",
       "      <th>Comunidad autónoma</th>\n",
       "      <th>Indicador_espectaculos</th>\n",
       "      <th>Total_espectaculos</th>\n",
       "    </tr>\n",
       "  </thead>\n",
       "  <tbody>\n",
       "    <tr>\n",
       "      <th>0</th>\n",
       "      <td>2023</td>\n",
       "      <td>Andalucía</td>\n",
       "      <td>TOTAL (Millones de euros)</td>\n",
       "      <td>231.5</td>\n",
       "    </tr>\n",
       "    <tr>\n",
       "      <th>144</th>\n",
       "      <td>2023</td>\n",
       "      <td>Andalucía</td>\n",
       "      <td>GASTO MEDIO POR HOGAR (Euros)</td>\n",
       "      <td>68.8</td>\n",
       "    </tr>\n",
       "    <tr>\n",
       "      <th>432</th>\n",
       "      <td>2023</td>\n",
       "      <td>Andalucía</td>\n",
       "      <td>GASTO MEDIO POR PERSONA (Euros)</td>\n",
       "      <td>27.0</td>\n",
       "    </tr>\n",
       "    <tr>\n",
       "      <th>8</th>\n",
       "      <td>2023</td>\n",
       "      <td>Aragón</td>\n",
       "      <td>TOTAL (Millones de euros)</td>\n",
       "      <td>59.5</td>\n",
       "    </tr>\n",
       "    <tr>\n",
       "      <th>152</th>\n",
       "      <td>2023</td>\n",
       "      <td>Aragón</td>\n",
       "      <td>GASTO MEDIO POR HOGAR (Euros)</td>\n",
       "      <td>106.4</td>\n",
       "    </tr>\n",
       "  </tbody>\n",
       "</table>\n",
       "</div>"
      ],
      "text/plain": [
       "     periodo Comunidad autónoma           Indicador_espectaculos  \\\n",
       "0       2023          Andalucía        TOTAL (Millones de euros)   \n",
       "144     2023          Andalucía    GASTO MEDIO POR HOGAR (Euros)   \n",
       "432     2023          Andalucía  GASTO MEDIO POR PERSONA (Euros)   \n",
       "8       2023             Aragón        TOTAL (Millones de euros)   \n",
       "152     2023             Aragón    GASTO MEDIO POR HOGAR (Euros)   \n",
       "\n",
       "     Total_espectaculos  \n",
       "0                 231.5  \n",
       "144                68.8  \n",
       "432                27.0  \n",
       "8                  59.5  \n",
       "152               106.4  "
      ]
     },
     "execution_count": 29,
     "metadata": {},
     "output_type": "execute_result"
    }
   ],
   "source": [
    "espectaculos.sort_values(by= [\"periodo\",\"Comunidad autónoma\"], ascending=[False, True], inplace=True)\n",
    "espectaculos.head()"
   ]
  },
  {
   "cell_type": "markdown",
   "id": "95be684d",
   "metadata": {},
   "source": [
    "## 🎓 Educación"
   ]
  },
  {
   "cell_type": "code",
   "execution_count": 30,
   "id": "20fc819a",
   "metadata": {},
   "outputs": [],
   "source": [
    "educacion.rename(columns={ 'Total': 'Total_educacion'}, inplace=True)\n",
    "educacion = educacion[['periodo','Comunidad autónoma', 'Sexo', 'Año', 'Nivel de formación alcanzado','Total_educacion']]"
   ]
  },
  {
   "cell_type": "code",
   "execution_count": 31,
   "id": "10f7dcb4",
   "metadata": {},
   "outputs": [
    {
     "name": "stdout",
     "output_type": "stream",
     "text": [
      "<class 'pandas.core.frame.DataFrame'>\n",
      "RangeIndex: 3192 entries, 0 to 3191\n",
      "Data columns (total 6 columns):\n",
      " #   Column                        Non-Null Count  Dtype \n",
      "---  ------                        --------------  ----- \n",
      " 0   periodo                       3192 non-null   object\n",
      " 1   Comunidad autónoma            3192 non-null   object\n",
      " 2   Sexo                          3192 non-null   object\n",
      " 3   Año                           3192 non-null   object\n",
      " 4   Nivel de formación alcanzado  3192 non-null   object\n",
      " 5   Total_educacion               3192 non-null   object\n",
      "dtypes: object(6)\n",
      "memory usage: 149.8+ KB\n"
     ]
    }
   ],
   "source": [
    "educacion.info()"
   ]
  },
  {
   "cell_type": "code",
   "execution_count": 32,
   "id": "ec900828",
   "metadata": {},
   "outputs": [
    {
     "data": {
      "text/html": [
       "<div>\n",
       "<style scoped>\n",
       "    .dataframe tbody tr th:only-of-type {\n",
       "        vertical-align: middle;\n",
       "    }\n",
       "\n",
       "    .dataframe tbody tr th {\n",
       "        vertical-align: top;\n",
       "    }\n",
       "\n",
       "    .dataframe thead th {\n",
       "        text-align: right;\n",
       "    }\n",
       "</style>\n",
       "<table border=\"1\" class=\"dataframe\">\n",
       "  <thead>\n",
       "    <tr style=\"text-align: right;\">\n",
       "      <th></th>\n",
       "      <th>periodo</th>\n",
       "      <th>Comunidad autónoma</th>\n",
       "      <th>Sexo</th>\n",
       "      <th>Año</th>\n",
       "      <th>Nivel de formación alcanzado</th>\n",
       "      <th>Total_educacion</th>\n",
       "    </tr>\n",
       "  </thead>\n",
       "  <tbody>\n",
       "    <tr>\n",
       "      <th>0</th>\n",
       "      <td>2023</td>\n",
       "      <td>Andalucía</td>\n",
       "      <td>Hombres</td>\n",
       "      <td>2023T4</td>\n",
       "      <td>Analfabetos</td>\n",
       "      <td>1,5</td>\n",
       "    </tr>\n",
       "    <tr>\n",
       "      <th>1</th>\n",
       "      <td>2023</td>\n",
       "      <td>Andalucía</td>\n",
       "      <td>Hombres</td>\n",
       "      <td>2023T3</td>\n",
       "      <td>Analfabetos</td>\n",
       "      <td>1,2</td>\n",
       "    </tr>\n",
       "    <tr>\n",
       "      <th>2</th>\n",
       "      <td>2023</td>\n",
       "      <td>Andalucía</td>\n",
       "      <td>Hombres</td>\n",
       "      <td>2023T2</td>\n",
       "      <td>Analfabetos</td>\n",
       "      <td>1,4</td>\n",
       "    </tr>\n",
       "    <tr>\n",
       "      <th>3</th>\n",
       "      <td>2023</td>\n",
       "      <td>Andalucía</td>\n",
       "      <td>Hombres</td>\n",
       "      <td>2023T1</td>\n",
       "      <td>Analfabetos</td>\n",
       "      <td>1,2</td>\n",
       "    </tr>\n",
       "    <tr>\n",
       "      <th>4</th>\n",
       "      <td>2022</td>\n",
       "      <td>Andalucía</td>\n",
       "      <td>Hombres</td>\n",
       "      <td>2022T4</td>\n",
       "      <td>Analfabetos</td>\n",
       "      <td>1,5</td>\n",
       "    </tr>\n",
       "  </tbody>\n",
       "</table>\n",
       "</div>"
      ],
      "text/plain": [
       "  periodo Comunidad autónoma     Sexo     Año Nivel de formación alcanzado  \\\n",
       "0    2023          Andalucía  Hombres  2023T4                  Analfabetos   \n",
       "1    2023          Andalucía  Hombres  2023T3                  Analfabetos   \n",
       "2    2023          Andalucía  Hombres  2023T2                  Analfabetos   \n",
       "3    2023          Andalucía  Hombres  2023T1                  Analfabetos   \n",
       "4    2022          Andalucía  Hombres  2022T4                  Analfabetos   \n",
       "\n",
       "  Total_educacion  \n",
       "0             1,5  \n",
       "1             1,2  \n",
       "2             1,4  \n",
       "3             1,2  \n",
       "4             1,5  "
      ]
     },
     "execution_count": 32,
     "metadata": {},
     "output_type": "execute_result"
    }
   ],
   "source": [
    "# arreglar educacion para que solo haya un año haciendo la media entre los trimestres\n",
    "educacion.head()"
   ]
  },
  {
   "cell_type": "code",
   "execution_count": 33,
   "id": "d94ceb65",
   "metadata": {},
   "outputs": [],
   "source": [
    "#ARREGLAR\n",
    "# Reemplazar comas por puntos\n",
    "educacion[\"Total_educacion\"] = educacion[\"Total_educacion\"].str.replace(',', '.')\n",
    "\n",
    "# Convertir a numérico (y evitar errores cuando hay valores como '..' )\n",
    "educacion[\"Total_educacion\"] = pd.to_numeric(educacion[\"Total_educacion\"], errors='coerce')\n"
   ]
  },
  {
   "cell_type": "code",
   "execution_count": 34,
   "id": "a94252c9",
   "metadata": {},
   "outputs": [
    {
     "name": "stdout",
     "output_type": "stream",
     "text": [
      "<class 'pandas.core.frame.DataFrame'>\n",
      "RangeIndex: 3192 entries, 0 to 3191\n",
      "Data columns (total 6 columns):\n",
      " #   Column                        Non-Null Count  Dtype  \n",
      "---  ------                        --------------  -----  \n",
      " 0   periodo                       3192 non-null   object \n",
      " 1   Comunidad autónoma            3192 non-null   object \n",
      " 2   Sexo                          3192 non-null   object \n",
      " 3   Año                           3192 non-null   object \n",
      " 4   Nivel de formación alcanzado  3192 non-null   object \n",
      " 5   Total_educacion               3188 non-null   float64\n",
      "dtypes: float64(1), object(5)\n",
      "memory usage: 149.8+ KB\n"
     ]
    }
   ],
   "source": [
    "educacion.info()"
   ]
  },
  {
   "cell_type": "code",
   "execution_count": 35,
   "id": "555e1578",
   "metadata": {},
   "outputs": [
    {
     "data": {
      "text/html": [
       "<div>\n",
       "<style scoped>\n",
       "    .dataframe tbody tr th:only-of-type {\n",
       "        vertical-align: middle;\n",
       "    }\n",
       "\n",
       "    .dataframe tbody tr th {\n",
       "        vertical-align: top;\n",
       "    }\n",
       "\n",
       "    .dataframe thead th {\n",
       "        text-align: right;\n",
       "    }\n",
       "</style>\n",
       "<table border=\"1\" class=\"dataframe\">\n",
       "  <thead>\n",
       "    <tr style=\"text-align: right;\">\n",
       "      <th></th>\n",
       "      <th>periodo</th>\n",
       "      <th>Comunidad autónoma</th>\n",
       "      <th>Sexo</th>\n",
       "      <th>Año</th>\n",
       "      <th>Nivel de formación alcanzado</th>\n",
       "      <th>Total_educacion</th>\n",
       "    </tr>\n",
       "  </thead>\n",
       "  <tbody>\n",
       "    <tr>\n",
       "      <th>1435</th>\n",
       "      <td>2022</td>\n",
       "      <td>Ceuta</td>\n",
       "      <td>Hombres</td>\n",
       "      <td>2022T1</td>\n",
       "      <td>Analfabetos</td>\n",
       "      <td>NaN</td>\n",
       "    </tr>\n",
       "    <tr>\n",
       "      <th>1436</th>\n",
       "      <td>2021</td>\n",
       "      <td>Ceuta</td>\n",
       "      <td>Hombres</td>\n",
       "      <td>2021T4</td>\n",
       "      <td>Analfabetos</td>\n",
       "      <td>NaN</td>\n",
       "    </tr>\n",
       "    <tr>\n",
       "      <th>1437</th>\n",
       "      <td>2021</td>\n",
       "      <td>Ceuta</td>\n",
       "      <td>Hombres</td>\n",
       "      <td>2021T3</td>\n",
       "      <td>Analfabetos</td>\n",
       "      <td>NaN</td>\n",
       "    </tr>\n",
       "    <tr>\n",
       "      <th>1438</th>\n",
       "      <td>2021</td>\n",
       "      <td>Ceuta</td>\n",
       "      <td>Hombres</td>\n",
       "      <td>2021T2</td>\n",
       "      <td>Analfabetos</td>\n",
       "      <td>NaN</td>\n",
       "    </tr>\n",
       "  </tbody>\n",
       "</table>\n",
       "</div>"
      ],
      "text/plain": [
       "     periodo Comunidad autónoma     Sexo     Año Nivel de formación alcanzado  \\\n",
       "1435    2022              Ceuta  Hombres  2022T1                  Analfabetos   \n",
       "1436    2021              Ceuta  Hombres  2021T4                  Analfabetos   \n",
       "1437    2021              Ceuta  Hombres  2021T3                  Analfabetos   \n",
       "1438    2021              Ceuta  Hombres  2021T2                  Analfabetos   \n",
       "\n",
       "      Total_educacion  \n",
       "1435              NaN  \n",
       "1436              NaN  \n",
       "1437              NaN  \n",
       "1438              NaN  "
      ]
     },
     "execution_count": 35,
     "metadata": {},
     "output_type": "execute_result"
    }
   ],
   "source": [
    "educacion[educacion.Total_educacion.isnull()] #Estos NaN se borrarán al eliminar los datos de Ceuta "
   ]
  },
  {
   "cell_type": "code",
   "execution_count": 36,
   "id": "935465b8",
   "metadata": {},
   "outputs": [],
   "source": [
    "educacion.drop(columns='Año', inplace=True)\n",
    "educacion.drop_duplicates(inplace=True)"
   ]
  },
  {
   "cell_type": "code",
   "execution_count": 37,
   "id": "4f4e4184",
   "metadata": {},
   "outputs": [],
   "source": [
    "total=[]\n",
    "for año in educacion['periodo'].unique():\n",
    "    educacion_año = educacion[educacion['periodo'] == año]\n",
    "    media = educacion.groupby(['periodo', 'Comunidad autónoma', 'Sexo', 'Nivel de formación alcanzado'],as_index=False)['Total_educacion'].mean()\n",
    "    total.append(media)"
   ]
  },
  {
   "cell_type": "code",
   "execution_count": 38,
   "id": "142899b0",
   "metadata": {},
   "outputs": [
    {
     "data": {
      "text/plain": [
       "[    periodo Comunidad autónoma     Sexo  \\\n",
       " 0      2021          Andalucía  Hombres   \n",
       " 1      2021          Andalucía  Hombres   \n",
       " 2      2021          Andalucía  Hombres   \n",
       " 3      2021          Andalucía  Hombres   \n",
       " 4      2021          Andalucía  Hombres   \n",
       " ..      ...                ...      ...   \n",
       " 793    2023          Rioja, La  Mujeres   \n",
       " 794    2023          Rioja, La  Mujeres   \n",
       " 795    2023          Rioja, La  Mujeres   \n",
       " 796    2023          Rioja, La  Mujeres   \n",
       " 797    2023          Rioja, La  Mujeres   \n",
       " \n",
       "                           Nivel de formación alcanzado  Total_educacion  \n",
       " 0                                          Analfabetos         1.900000  \n",
       " 1                                   Educación primaria        10.875000  \n",
       " 2                                   Educación superior        26.100000  \n",
       " 3                       Estudios primarios incompletos         6.100000  \n",
       " 4      Primera etapa de Educación Secundaria y similar        33.800000  \n",
       " ..                                                 ...              ...  \n",
       " 793                                 Educación superior        35.175000  \n",
       " 794                     Estudios primarios incompletos         1.633333  \n",
       " 795    Primera etapa de Educación Secundaria y similar        34.375000  \n",
       " 796  Segunda etapa de educación secundaria con orie...         7.750000  \n",
       " 797  Segunda etapa de educación secundaria, con ori...        13.550000  \n",
       " \n",
       " [798 rows x 5 columns],\n",
       "     periodo Comunidad autónoma     Sexo  \\\n",
       " 0      2021          Andalucía  Hombres   \n",
       " 1      2021          Andalucía  Hombres   \n",
       " 2      2021          Andalucía  Hombres   \n",
       " 3      2021          Andalucía  Hombres   \n",
       " 4      2021          Andalucía  Hombres   \n",
       " ..      ...                ...      ...   \n",
       " 793    2023          Rioja, La  Mujeres   \n",
       " 794    2023          Rioja, La  Mujeres   \n",
       " 795    2023          Rioja, La  Mujeres   \n",
       " 796    2023          Rioja, La  Mujeres   \n",
       " 797    2023          Rioja, La  Mujeres   \n",
       " \n",
       "                           Nivel de formación alcanzado  Total_educacion  \n",
       " 0                                          Analfabetos         1.900000  \n",
       " 1                                   Educación primaria        10.875000  \n",
       " 2                                   Educación superior        26.100000  \n",
       " 3                       Estudios primarios incompletos         6.100000  \n",
       " 4      Primera etapa de Educación Secundaria y similar        33.800000  \n",
       " ..                                                 ...              ...  \n",
       " 793                                 Educación superior        35.175000  \n",
       " 794                     Estudios primarios incompletos         1.633333  \n",
       " 795    Primera etapa de Educación Secundaria y similar        34.375000  \n",
       " 796  Segunda etapa de educación secundaria con orie...         7.750000  \n",
       " 797  Segunda etapa de educación secundaria, con ori...        13.550000  \n",
       " \n",
       " [798 rows x 5 columns],\n",
       "     periodo Comunidad autónoma     Sexo  \\\n",
       " 0      2021          Andalucía  Hombres   \n",
       " 1      2021          Andalucía  Hombres   \n",
       " 2      2021          Andalucía  Hombres   \n",
       " 3      2021          Andalucía  Hombres   \n",
       " 4      2021          Andalucía  Hombres   \n",
       " ..      ...                ...      ...   \n",
       " 793    2023          Rioja, La  Mujeres   \n",
       " 794    2023          Rioja, La  Mujeres   \n",
       " 795    2023          Rioja, La  Mujeres   \n",
       " 796    2023          Rioja, La  Mujeres   \n",
       " 797    2023          Rioja, La  Mujeres   \n",
       " \n",
       "                           Nivel de formación alcanzado  Total_educacion  \n",
       " 0                                          Analfabetos         1.900000  \n",
       " 1                                   Educación primaria        10.875000  \n",
       " 2                                   Educación superior        26.100000  \n",
       " 3                       Estudios primarios incompletos         6.100000  \n",
       " 4      Primera etapa de Educación Secundaria y similar        33.800000  \n",
       " ..                                                 ...              ...  \n",
       " 793                                 Educación superior        35.175000  \n",
       " 794                     Estudios primarios incompletos         1.633333  \n",
       " 795    Primera etapa de Educación Secundaria y similar        34.375000  \n",
       " 796  Segunda etapa de educación secundaria con orie...         7.750000  \n",
       " 797  Segunda etapa de educación secundaria, con ori...        13.550000  \n",
       " \n",
       " [798 rows x 5 columns]]"
      ]
     },
     "execution_count": 38,
     "metadata": {},
     "output_type": "execute_result"
    }
   ],
   "source": [
    "total"
   ]
  },
  {
   "cell_type": "code",
   "execution_count": 39,
   "id": "59c0ab2f",
   "metadata": {},
   "outputs": [],
   "source": [
    "educacion = pd.concat(total, ignore_index=True)"
   ]
  },
  {
   "cell_type": "code",
   "execution_count": 40,
   "id": "62694bc9",
   "metadata": {},
   "outputs": [
    {
     "name": "stdout",
     "output_type": "stream",
     "text": [
      "<class 'pandas.core.frame.DataFrame'>\n",
      "RangeIndex: 2394 entries, 0 to 2393\n",
      "Data columns (total 5 columns):\n",
      " #   Column                        Non-Null Count  Dtype  \n",
      "---  ------                        --------------  -----  \n",
      " 0   periodo                       2394 non-null   object \n",
      " 1   Comunidad autónoma            2394 non-null   object \n",
      " 2   Sexo                          2394 non-null   object \n",
      " 3   Nivel de formación alcanzado  2394 non-null   object \n",
      " 4   Total_educacion               2394 non-null   float64\n",
      "dtypes: float64(1), object(4)\n",
      "memory usage: 93.6+ KB\n"
     ]
    }
   ],
   "source": [
    "educacion.info()"
   ]
  },
  {
   "cell_type": "code",
   "execution_count": 41,
   "id": "56900d61",
   "metadata": {},
   "outputs": [],
   "source": [
    "#periodo a int\n",
    "educacion['periodo'] = pd.to_numeric(educacion['periodo'], errors='coerce')"
   ]
  },
  {
   "cell_type": "code",
   "execution_count": 42,
   "id": "3d85672f",
   "metadata": {},
   "outputs": [
    {
     "data": {
      "text/plain": [
       "array([2021, 2022, 2023])"
      ]
     },
     "execution_count": 42,
     "metadata": {},
     "output_type": "execute_result"
    }
   ],
   "source": [
    "educacion[\"periodo\"].unique()"
   ]
  },
  {
   "cell_type": "code",
   "execution_count": 43,
   "id": "d66fd77f",
   "metadata": {},
   "outputs": [
    {
     "data": {
      "text/plain": [
       "array(['Andalucía', 'Aragón', 'Asturias, Principado de', 'Balears, Illes',\n",
       "       'Canarias', 'Cantabria', 'Castilla - La Mancha', 'Castilla y León',\n",
       "       'Cataluña', 'Ceuta', 'Comunitat Valenciana', 'Extremadura',\n",
       "       'Galicia', 'Madrid, Comunidad de', 'Melilla', 'Murcia, Región de',\n",
       "       'Navarra, Comunidad Foral de', 'País Vasco', 'Rioja, La'],\n",
       "      dtype=object)"
      ]
     },
     "execution_count": 43,
     "metadata": {},
     "output_type": "execute_result"
    }
   ],
   "source": [
    "educacion[\"Comunidad autónoma\"].unique() "
   ]
  },
  {
   "cell_type": "code",
   "execution_count": 44,
   "id": "0bc67619",
   "metadata": {},
   "outputs": [],
   "source": [
    "def formatear_nombre(nombre):\n",
    "    if \",\" in nombre:\n",
    "        partes= nombre.split(\",\")\n",
    "        partes= [a.strip() for a in partes] #para que no salga 'Asturias ( Principado de)'\n",
    "        nombre_cambio = f\"{partes[0]} ({partes[1]})\"\n",
    "        return nombre_cambio\n",
    "    else:\n",
    "        return nombre\n"
   ]
  },
  {
   "cell_type": "code",
   "execution_count": 45,
   "id": "6e75ce9d",
   "metadata": {},
   "outputs": [],
   "source": [
    "educacion[\"Comunidad autónoma\"] = educacion[\"Comunidad autónoma\"].apply(formatear_nombre)"
   ]
  },
  {
   "cell_type": "code",
   "execution_count": 46,
   "id": "0a331208",
   "metadata": {},
   "outputs": [
    {
     "data": {
      "text/plain": [
       "array(['Andalucía', 'Aragón', 'Asturias (Principado de)',\n",
       "       'Balears (Illes)', 'Canarias', 'Cantabria', 'Castilla - La Mancha',\n",
       "       'Castilla y León', 'Cataluña', 'Ceuta', 'Comunitat Valenciana',\n",
       "       'Extremadura', 'Galicia', 'Madrid (Comunidad de)', 'Melilla',\n",
       "       'Murcia (Región de)', 'Navarra (Comunidad Foral de)', 'País Vasco',\n",
       "       'Rioja (La)'], dtype=object)"
      ]
     },
     "execution_count": 46,
     "metadata": {},
     "output_type": "execute_result"
    }
   ],
   "source": [
    "educacion[\"Comunidad autónoma\"].unique()"
   ]
  },
  {
   "cell_type": "code",
   "execution_count": 47,
   "id": "6a6babe4",
   "metadata": {},
   "outputs": [],
   "source": [
    "educacion = educacion[educacion[\"Comunidad autónoma\"] != \"Ceuta\"]\n",
    "educacion = educacion[educacion[\"Comunidad autónoma\"] != \"Melilla\"]"
   ]
  },
  {
   "cell_type": "code",
   "execution_count": 48,
   "id": "265536b0",
   "metadata": {},
   "outputs": [
    {
     "name": "stdout",
     "output_type": "stream",
     "text": [
      "<class 'pandas.core.frame.DataFrame'>\n",
      "Index: 2142 entries, 0 to 2393\n",
      "Data columns (total 5 columns):\n",
      " #   Column                        Non-Null Count  Dtype  \n",
      "---  ------                        --------------  -----  \n",
      " 0   periodo                       2142 non-null   int64  \n",
      " 1   Comunidad autónoma            2142 non-null   object \n",
      " 2   Sexo                          2142 non-null   object \n",
      " 3   Nivel de formación alcanzado  2142 non-null   object \n",
      " 4   Total_educacion               2142 non-null   float64\n",
      "dtypes: float64(1), int64(1), object(3)\n",
      "memory usage: 100.4+ KB\n"
     ]
    }
   ],
   "source": [
    "educacion.info()"
   ]
  },
  {
   "cell_type": "code",
   "execution_count": 49,
   "id": "0cc4b70a",
   "metadata": {},
   "outputs": [],
   "source": [
    "educacion.drop_duplicates(inplace=True)"
   ]
  },
  {
   "cell_type": "code",
   "execution_count": 50,
   "id": "a334f55f",
   "metadata": {},
   "outputs": [
    {
     "name": "stdout",
     "output_type": "stream",
     "text": [
      "<class 'pandas.core.frame.DataFrame'>\n",
      "Index: 714 entries, 0 to 797\n",
      "Data columns (total 5 columns):\n",
      " #   Column                        Non-Null Count  Dtype  \n",
      "---  ------                        --------------  -----  \n",
      " 0   periodo                       714 non-null    int64  \n",
      " 1   Comunidad autónoma            714 non-null    object \n",
      " 2   Sexo                          714 non-null    object \n",
      " 3   Nivel de formación alcanzado  714 non-null    object \n",
      " 4   Total_educacion               714 non-null    float64\n",
      "dtypes: float64(1), int64(1), object(3)\n",
      "memory usage: 33.5+ KB\n"
     ]
    }
   ],
   "source": [
    "educacion.info()"
   ]
  },
  {
   "cell_type": "code",
   "execution_count": 51,
   "id": "919537f9",
   "metadata": {},
   "outputs": [
    {
     "data": {
      "text/html": [
       "<div>\n",
       "<style scoped>\n",
       "    .dataframe tbody tr th:only-of-type {\n",
       "        vertical-align: middle;\n",
       "    }\n",
       "\n",
       "    .dataframe tbody tr th {\n",
       "        vertical-align: top;\n",
       "    }\n",
       "\n",
       "    .dataframe thead th {\n",
       "        text-align: right;\n",
       "    }\n",
       "</style>\n",
       "<table border=\"1\" class=\"dataframe\">\n",
       "  <thead>\n",
       "    <tr style=\"text-align: right;\">\n",
       "      <th></th>\n",
       "      <th>periodo</th>\n",
       "      <th>Comunidad autónoma</th>\n",
       "      <th>Sexo</th>\n",
       "      <th>Nivel de formación alcanzado</th>\n",
       "      <th>Total_educacion</th>\n",
       "    </tr>\n",
       "  </thead>\n",
       "  <tbody>\n",
       "    <tr>\n",
       "      <th>532</th>\n",
       "      <td>2023</td>\n",
       "      <td>Andalucía</td>\n",
       "      <td>Hombres</td>\n",
       "      <td>Analfabetos</td>\n",
       "      <td>1.366667</td>\n",
       "    </tr>\n",
       "    <tr>\n",
       "      <th>533</th>\n",
       "      <td>2023</td>\n",
       "      <td>Andalucía</td>\n",
       "      <td>Hombres</td>\n",
       "      <td>Educación primaria</td>\n",
       "      <td>10.650000</td>\n",
       "    </tr>\n",
       "    <tr>\n",
       "      <th>534</th>\n",
       "      <td>2023</td>\n",
       "      <td>Andalucía</td>\n",
       "      <td>Hombres</td>\n",
       "      <td>Educación superior</td>\n",
       "      <td>27.466667</td>\n",
       "    </tr>\n",
       "    <tr>\n",
       "      <th>535</th>\n",
       "      <td>2023</td>\n",
       "      <td>Andalucía</td>\n",
       "      <td>Hombres</td>\n",
       "      <td>Estudios primarios incompletos</td>\n",
       "      <td>5.600000</td>\n",
       "    </tr>\n",
       "    <tr>\n",
       "      <th>536</th>\n",
       "      <td>2023</td>\n",
       "      <td>Andalucía</td>\n",
       "      <td>Hombres</td>\n",
       "      <td>Primera etapa de Educación Secundaria y similar</td>\n",
       "      <td>33.175000</td>\n",
       "    </tr>\n",
       "  </tbody>\n",
       "</table>\n",
       "</div>"
      ],
      "text/plain": [
       "     periodo Comunidad autónoma     Sexo  \\\n",
       "532     2023          Andalucía  Hombres   \n",
       "533     2023          Andalucía  Hombres   \n",
       "534     2023          Andalucía  Hombres   \n",
       "535     2023          Andalucía  Hombres   \n",
       "536     2023          Andalucía  Hombres   \n",
       "\n",
       "                        Nivel de formación alcanzado  Total_educacion  \n",
       "532                                      Analfabetos         1.366667  \n",
       "533                               Educación primaria        10.650000  \n",
       "534                               Educación superior        27.466667  \n",
       "535                   Estudios primarios incompletos         5.600000  \n",
       "536  Primera etapa de Educación Secundaria y similar        33.175000  "
      ]
     },
     "execution_count": 51,
     "metadata": {},
     "output_type": "execute_result"
    }
   ],
   "source": [
    "educacion.sort_values(by= [\"periodo\",\"Comunidad autónoma\",\"Sexo\",\"Nivel de formación alcanzado\"], ascending=[False, True, True, True], inplace=True)\n",
    "educacion.head()"
   ]
  },
  {
   "cell_type": "markdown",
   "id": "7285268e",
   "metadata": {},
   "source": [
    "## 📰 Bienes y servicios"
   ]
  },
  {
   "cell_type": "code",
   "execution_count": 52,
   "id": "cecec188",
   "metadata": {},
   "outputs": [],
   "source": [
    "bys.head()\n",
    "bys.rename(columns={'Indicador': 'Indicador_bys', 'Grupos de gasto': 'Grupo de gasto_bys', 'Total': 'Total_bys'}, inplace=True)\n",
    "bys = bys[['periodo','Comunidad autónoma', 'Grupo de gasto_bys', 'Indicador_bys', 'Total_bys']]"
   ]
  },
  {
   "cell_type": "code",
   "execution_count": 53,
   "id": "f3a30a27",
   "metadata": {},
   "outputs": [
    {
     "data": {
      "text/html": [
       "<div>\n",
       "<style scoped>\n",
       "    .dataframe tbody tr th:only-of-type {\n",
       "        vertical-align: middle;\n",
       "    }\n",
       "\n",
       "    .dataframe tbody tr th {\n",
       "        vertical-align: top;\n",
       "    }\n",
       "\n",
       "    .dataframe thead th {\n",
       "        text-align: right;\n",
       "    }\n",
       "</style>\n",
       "<table border=\"1\" class=\"dataframe\">\n",
       "  <thead>\n",
       "    <tr style=\"text-align: right;\">\n",
       "      <th></th>\n",
       "      <th>periodo</th>\n",
       "      <th>Comunidad autónoma</th>\n",
       "      <th>Grupo de gasto_bys</th>\n",
       "      <th>Indicador_bys</th>\n",
       "      <th>Total_bys</th>\n",
       "    </tr>\n",
       "  </thead>\n",
       "  <tbody>\n",
       "    <tr>\n",
       "      <th>0</th>\n",
       "      <td>2023</td>\n",
       "      <td>Andalucía</td>\n",
       "      <td>Libro y publicaciones periódicas</td>\n",
       "      <td>TOTAL (Millones de euros)</td>\n",
       "      <td>222,4</td>\n",
       "    </tr>\n",
       "    <tr>\n",
       "      <th>1</th>\n",
       "      <td>2022</td>\n",
       "      <td>Andalucía</td>\n",
       "      <td>Libro y publicaciones periódicas</td>\n",
       "      <td>TOTAL (Millones de euros)</td>\n",
       "      <td>184,9</td>\n",
       "    </tr>\n",
       "    <tr>\n",
       "      <th>2</th>\n",
       "      <td>2021</td>\n",
       "      <td>Andalucía</td>\n",
       "      <td>Libro y publicaciones periódicas</td>\n",
       "      <td>TOTAL (Millones de euros)</td>\n",
       "      <td>239,2</td>\n",
       "    </tr>\n",
       "    <tr>\n",
       "      <th>3</th>\n",
       "      <td>2020</td>\n",
       "      <td>Andalucía</td>\n",
       "      <td>Libro y publicaciones periódicas</td>\n",
       "      <td>TOTAL (Millones de euros)</td>\n",
       "      <td>186,3</td>\n",
       "    </tr>\n",
       "    <tr>\n",
       "      <th>4</th>\n",
       "      <td>2019</td>\n",
       "      <td>Andalucía</td>\n",
       "      <td>Libro y publicaciones periódicas</td>\n",
       "      <td>TOTAL (Millones de euros)</td>\n",
       "      <td>209,6</td>\n",
       "    </tr>\n",
       "  </tbody>\n",
       "</table>\n",
       "</div>"
      ],
      "text/plain": [
       "   periodo Comunidad autónoma                Grupo de gasto_bys  \\\n",
       "0     2023          Andalucía  Libro y publicaciones periódicas   \n",
       "1     2022          Andalucía  Libro y publicaciones periódicas   \n",
       "2     2021          Andalucía  Libro y publicaciones periódicas   \n",
       "3     2020          Andalucía  Libro y publicaciones periódicas   \n",
       "4     2019          Andalucía  Libro y publicaciones periódicas   \n",
       "\n",
       "               Indicador_bys Total_bys  \n",
       "0  TOTAL (Millones de euros)     222,4  \n",
       "1  TOTAL (Millones de euros)     184,9  \n",
       "2  TOTAL (Millones de euros)     239,2  \n",
       "3  TOTAL (Millones de euros)     186,3  \n",
       "4  TOTAL (Millones de euros)     209,6  "
      ]
     },
     "execution_count": 53,
     "metadata": {},
     "output_type": "execute_result"
    }
   ],
   "source": [
    "bys.head()"
   ]
  },
  {
   "cell_type": "code",
   "execution_count": 54,
   "id": "38ecc23d",
   "metadata": {},
   "outputs": [
    {
     "name": "stdout",
     "output_type": "stream",
     "text": [
      "<class 'pandas.core.frame.DataFrame'>\n",
      "RangeIndex: 2880 entries, 0 to 2879\n",
      "Data columns (total 5 columns):\n",
      " #   Column              Non-Null Count  Dtype \n",
      "---  ------              --------------  ----- \n",
      " 0   periodo             2880 non-null   int64 \n",
      " 1   Comunidad autónoma  2880 non-null   object\n",
      " 2   Grupo de gasto_bys  2880 non-null   object\n",
      " 3   Indicador_bys       2880 non-null   object\n",
      " 4   Total_bys           2880 non-null   object\n",
      "dtypes: int64(1), object(4)\n",
      "memory usage: 112.6+ KB\n"
     ]
    }
   ],
   "source": [
    "bys.info()"
   ]
  },
  {
   "cell_type": "code",
   "execution_count": 55,
   "id": "15813886",
   "metadata": {},
   "outputs": [],
   "source": [
    "# Reemplazar comas por puntos\n",
    "bys[\"Total_bys\"] = bys[\"Total_bys\"].str.replace(',', '.')\n",
    "\n",
    "# Convertir a numérico (y evitar errores cuando hay valores como '..' )\n",
    "bys[\"Total_bys\"] = pd.to_numeric(bys[\"Total_bys\"], errors='coerce') #Nos aparecen NaN --> por ejemplo por \"Unable to parse string \"1.066.3\" at position 31\"\n",
    "bys.dropna(inplace=True)"
   ]
  },
  {
   "cell_type": "code",
   "execution_count": 56,
   "id": "9a58a50a",
   "metadata": {},
   "outputs": [
    {
     "name": "stdout",
     "output_type": "stream",
     "text": [
      "<class 'pandas.core.frame.DataFrame'>\n",
      "Index: 2719 entries, 0 to 2847\n",
      "Data columns (total 5 columns):\n",
      " #   Column              Non-Null Count  Dtype  \n",
      "---  ------              --------------  -----  \n",
      " 0   periodo             2719 non-null   int64  \n",
      " 1   Comunidad autónoma  2719 non-null   object \n",
      " 2   Grupo de gasto_bys  2719 non-null   object \n",
      " 3   Indicador_bys       2719 non-null   object \n",
      " 4   Total_bys           2719 non-null   float64\n",
      "dtypes: float64(1), int64(1), object(3)\n",
      "memory usage: 127.5+ KB\n"
     ]
    }
   ],
   "source": [
    "bys.info()"
   ]
  },
  {
   "cell_type": "code",
   "execution_count": 57,
   "id": "1bda1019",
   "metadata": {},
   "outputs": [
    {
     "data": {
      "text/plain": [
       "array([2023, 2022, 2021, 2020, 2019, 2018, 2017, 2016])"
      ]
     },
     "execution_count": 57,
     "metadata": {},
     "output_type": "execute_result"
    }
   ],
   "source": [
    "bys[\"periodo\"].unique()"
   ]
  },
  {
   "cell_type": "code",
   "execution_count": 58,
   "id": "2aae9094",
   "metadata": {},
   "outputs": [],
   "source": [
    "bys = bys[bys[\"periodo\"] >= 2021]"
   ]
  },
  {
   "cell_type": "code",
   "execution_count": 59,
   "id": "4163805b",
   "metadata": {},
   "outputs": [
    {
     "data": {
      "text/plain": [
       "array(['Andalucía', 'Aragón', 'Asturias (Principado de)',\n",
       "       'Balears (Illes)', 'Canarias', 'Cantabria', 'Castilla y León',\n",
       "       'Castilla-La Mancha', 'Cataluña', 'Comunitat Valenciana',\n",
       "       'Extremadura', 'Galicia', 'Madrid (Comunidad de)',\n",
       "       'Murcia (Región de)', 'Navarra (Comunidad Foral de)', 'País Vasco',\n",
       "       'Rioja (La)'], dtype=object)"
      ]
     },
     "execution_count": 59,
     "metadata": {},
     "output_type": "execute_result"
    }
   ],
   "source": [
    "bys[\"Comunidad autónoma\"].unique() #No están Ceuta y Melilla"
   ]
  },
  {
   "cell_type": "code",
   "execution_count": 60,
   "id": "e52d9301",
   "metadata": {},
   "outputs": [
    {
     "data": {
      "text/plain": [
       "array(['TOTAL (Millones de euros)', 'PORCENTAJE',\n",
       "       'GASTO MEDIO POR HOGAR (Euros)',\n",
       "       'GASTO MEDIO POR UNIDAD DE CONSUMO (Euros)',\n",
       "       'GASTO MEDIO POR PERSONA (Euros)'], dtype=object)"
      ]
     },
     "execution_count": 60,
     "metadata": {},
     "output_type": "execute_result"
    }
   ],
   "source": [
    "bys['Indicador_bys'].unique()"
   ]
  },
  {
   "cell_type": "code",
   "execution_count": 61,
   "id": "c62b70fd",
   "metadata": {},
   "outputs": [],
   "source": [
    "bys = bys[bys['Indicador_bys'] != \"GASTO MEDIO POR UNIDAD DE CONSUMO (Euros)\"]\n",
    "bys = bys[bys['Indicador_bys'] != \"PORCENTAJE\"]"
   ]
  },
  {
   "cell_type": "code",
   "execution_count": 62,
   "id": "017a6bde",
   "metadata": {},
   "outputs": [
    {
     "data": {
      "text/plain": [
       "array(['Libro y publicaciones periódicas', 'Servicios culturales',\n",
       "       'Soportes, equipos y accesorios audiovisuales y de tratamiento de la información',\n",
       "       'Telefonía móvil y servicios relacionados con Internet'],\n",
       "      dtype=object)"
      ]
     },
     "execution_count": 62,
     "metadata": {},
     "output_type": "execute_result"
    }
   ],
   "source": [
    "bys['Grupo de gasto_bys'].unique()"
   ]
  },
  {
   "cell_type": "code",
   "execution_count": 63,
   "id": "02d5644f",
   "metadata": {},
   "outputs": [],
   "source": [
    "bys = bys[bys['Grupo de gasto_bys'] != 'Telefonía móvil y servicios relacionados con Internet']\n",
    "bys = bys[bys['Grupo de gasto_bys'] != 'Soportes, equipos y accesorios audiovisuales y de tratamiento de la información']"
   ]
  },
  {
   "cell_type": "code",
   "execution_count": 64,
   "id": "6fe08115",
   "metadata": {},
   "outputs": [
    {
     "name": "stdout",
     "output_type": "stream",
     "text": [
      "<class 'pandas.core.frame.DataFrame'>\n",
      "Index: 306 entries, 0 to 2826\n",
      "Data columns (total 5 columns):\n",
      " #   Column              Non-Null Count  Dtype  \n",
      "---  ------              --------------  -----  \n",
      " 0   periodo             306 non-null    int64  \n",
      " 1   Comunidad autónoma  306 non-null    object \n",
      " 2   Grupo de gasto_bys  306 non-null    object \n",
      " 3   Indicador_bys       306 non-null    object \n",
      " 4   Total_bys           306 non-null    float64\n",
      "dtypes: float64(1), int64(1), object(3)\n",
      "memory usage: 14.3+ KB\n"
     ]
    }
   ],
   "source": [
    "bys.info()"
   ]
  },
  {
   "cell_type": "code",
   "execution_count": 65,
   "id": "6c476064",
   "metadata": {},
   "outputs": [
    {
     "data": {
      "text/html": [
       "<div>\n",
       "<style scoped>\n",
       "    .dataframe tbody tr th:only-of-type {\n",
       "        vertical-align: middle;\n",
       "    }\n",
       "\n",
       "    .dataframe tbody tr th {\n",
       "        vertical-align: top;\n",
       "    }\n",
       "\n",
       "    .dataframe thead th {\n",
       "        text-align: right;\n",
       "    }\n",
       "</style>\n",
       "<table border=\"1\" class=\"dataframe\">\n",
       "  <thead>\n",
       "    <tr style=\"text-align: right;\">\n",
       "      <th></th>\n",
       "      <th>periodo</th>\n",
       "      <th>Comunidad autónoma</th>\n",
       "      <th>Grupo de gasto_bys</th>\n",
       "      <th>Indicador_bys</th>\n",
       "      <th>Total_bys</th>\n",
       "    </tr>\n",
       "  </thead>\n",
       "  <tbody>\n",
       "    <tr>\n",
       "      <th>1152</th>\n",
       "      <td>2023</td>\n",
       "      <td>Andalucía</td>\n",
       "      <td>Libro y publicaciones periódicas</td>\n",
       "      <td>GASTO MEDIO POR HOGAR (Euros)</td>\n",
       "      <td>66.1</td>\n",
       "    </tr>\n",
       "    <tr>\n",
       "      <th>2304</th>\n",
       "      <td>2023</td>\n",
       "      <td>Andalucía</td>\n",
       "      <td>Libro y publicaciones periódicas</td>\n",
       "      <td>GASTO MEDIO POR PERSONA (Euros)</td>\n",
       "      <td>26.0</td>\n",
       "    </tr>\n",
       "    <tr>\n",
       "      <th>0</th>\n",
       "      <td>2023</td>\n",
       "      <td>Andalucía</td>\n",
       "      <td>Libro y publicaciones periódicas</td>\n",
       "      <td>TOTAL (Millones de euros)</td>\n",
       "      <td>222.4</td>\n",
       "    </tr>\n",
       "    <tr>\n",
       "      <th>1160</th>\n",
       "      <td>2023</td>\n",
       "      <td>Andalucía</td>\n",
       "      <td>Servicios culturales</td>\n",
       "      <td>GASTO MEDIO POR HOGAR (Euros)</td>\n",
       "      <td>95.0</td>\n",
       "    </tr>\n",
       "    <tr>\n",
       "      <th>2312</th>\n",
       "      <td>2023</td>\n",
       "      <td>Andalucía</td>\n",
       "      <td>Servicios culturales</td>\n",
       "      <td>GASTO MEDIO POR PERSONA (Euros)</td>\n",
       "      <td>37.3</td>\n",
       "    </tr>\n",
       "    <tr>\n",
       "      <th>8</th>\n",
       "      <td>2023</td>\n",
       "      <td>Andalucía</td>\n",
       "      <td>Servicios culturales</td>\n",
       "      <td>TOTAL (Millones de euros)</td>\n",
       "      <td>319.7</td>\n",
       "    </tr>\n",
       "    <tr>\n",
       "      <th>1184</th>\n",
       "      <td>2023</td>\n",
       "      <td>Aragón</td>\n",
       "      <td>Libro y publicaciones periódicas</td>\n",
       "      <td>GASTO MEDIO POR HOGAR (Euros)</td>\n",
       "      <td>140.8</td>\n",
       "    </tr>\n",
       "    <tr>\n",
       "      <th>2336</th>\n",
       "      <td>2023</td>\n",
       "      <td>Aragón</td>\n",
       "      <td>Libro y publicaciones periódicas</td>\n",
       "      <td>GASTO MEDIO POR PERSONA (Euros)</td>\n",
       "      <td>59.1</td>\n",
       "    </tr>\n",
       "    <tr>\n",
       "      <th>32</th>\n",
       "      <td>2023</td>\n",
       "      <td>Aragón</td>\n",
       "      <td>Libro y publicaciones periódicas</td>\n",
       "      <td>TOTAL (Millones de euros)</td>\n",
       "      <td>78.7</td>\n",
       "    </tr>\n",
       "    <tr>\n",
       "      <th>1192</th>\n",
       "      <td>2023</td>\n",
       "      <td>Aragón</td>\n",
       "      <td>Servicios culturales</td>\n",
       "      <td>GASTO MEDIO POR HOGAR (Euros)</td>\n",
       "      <td>164.1</td>\n",
       "    </tr>\n",
       "  </tbody>\n",
       "</table>\n",
       "</div>"
      ],
      "text/plain": [
       "      periodo Comunidad autónoma                Grupo de gasto_bys  \\\n",
       "1152     2023          Andalucía  Libro y publicaciones periódicas   \n",
       "2304     2023          Andalucía  Libro y publicaciones periódicas   \n",
       "0        2023          Andalucía  Libro y publicaciones periódicas   \n",
       "1160     2023          Andalucía              Servicios culturales   \n",
       "2312     2023          Andalucía              Servicios culturales   \n",
       "8        2023          Andalucía              Servicios culturales   \n",
       "1184     2023             Aragón  Libro y publicaciones periódicas   \n",
       "2336     2023             Aragón  Libro y publicaciones periódicas   \n",
       "32       2023             Aragón  Libro y publicaciones periódicas   \n",
       "1192     2023             Aragón              Servicios culturales   \n",
       "\n",
       "                        Indicador_bys  Total_bys  \n",
       "1152    GASTO MEDIO POR HOGAR (Euros)       66.1  \n",
       "2304  GASTO MEDIO POR PERSONA (Euros)       26.0  \n",
       "0           TOTAL (Millones de euros)      222.4  \n",
       "1160    GASTO MEDIO POR HOGAR (Euros)       95.0  \n",
       "2312  GASTO MEDIO POR PERSONA (Euros)       37.3  \n",
       "8           TOTAL (Millones de euros)      319.7  \n",
       "1184    GASTO MEDIO POR HOGAR (Euros)      140.8  \n",
       "2336  GASTO MEDIO POR PERSONA (Euros)       59.1  \n",
       "32          TOTAL (Millones de euros)       78.7  \n",
       "1192    GASTO MEDIO POR HOGAR (Euros)      164.1  "
      ]
     },
     "execution_count": 65,
     "metadata": {},
     "output_type": "execute_result"
    }
   ],
   "source": [
    "bys.sort_values(by= [\"periodo\",\"Comunidad autónoma\",\"Grupo de gasto_bys\",\"Indicador_bys\"], ascending=[False, True, True, True], inplace=True)\n",
    "bys.head(10)"
   ]
  },
  {
   "cell_type": "markdown",
   "id": "f6529de0",
   "metadata": {},
   "source": [
    "## 💶 Renta"
   ]
  },
  {
   "cell_type": "code",
   "execution_count": 78,
   "id": "5458a8ef",
   "metadata": {},
   "outputs": [],
   "source": [
    "renta.rename(columns={'Comunidades y Ciudades Autónomas': 'Comunidad autónoma','Renta anual neta media por persona y por unidad de consumo': 'Renta anual', 'Periodo':'periodo', 'Total': 'Total_renta'}, inplace=True)\n",
    "renta = renta[['periodo', 'Comunidad autónoma', 'Renta anual', 'Total_renta']] "
   ]
  },
  {
   "cell_type": "code",
   "execution_count": 79,
   "id": "b1748241",
   "metadata": {},
   "outputs": [
    {
     "name": "stdout",
     "output_type": "stream",
     "text": [
      "<class 'pandas.core.frame.DataFrame'>\n",
      "RangeIndex: 76 entries, 0 to 75\n",
      "Data columns (total 4 columns):\n",
      " #   Column              Non-Null Count  Dtype  \n",
      "---  ------              --------------  -----  \n",
      " 0   periodo             76 non-null     int64  \n",
      " 1   Comunidad autónoma  76 non-null     object \n",
      " 2   Renta anual         76 non-null     object \n",
      " 3   Total_renta         76 non-null     float64\n",
      "dtypes: float64(1), int64(1), object(2)\n",
      "memory usage: 2.5+ KB\n"
     ]
    }
   ],
   "source": [
    "renta.info() #los dtypes son correctos"
   ]
  },
  {
   "cell_type": "code",
   "execution_count": 80,
   "id": "4413403c",
   "metadata": {},
   "outputs": [],
   "source": [
    "renta = renta[renta[\"periodo\"] >= 2021]\n",
    "renta = renta[renta[\"periodo\"] < 2024]"
   ]
  },
  {
   "cell_type": "code",
   "execution_count": 81,
   "id": "df451e35",
   "metadata": {},
   "outputs": [
    {
     "data": {
      "text/plain": [
       "array([2023, 2022, 2021])"
      ]
     },
     "execution_count": 81,
     "metadata": {},
     "output_type": "execute_result"
    }
   ],
   "source": [
    "renta.periodo.unique()"
   ]
  },
  {
   "cell_type": "code",
   "execution_count": 82,
   "id": "24edf450",
   "metadata": {},
   "outputs": [],
   "source": [
    "renta['Total_renta'] = renta['Total_renta'] * 1000"
   ]
  },
  {
   "cell_type": "code",
   "execution_count": 83,
   "id": "368e6fa7",
   "metadata": {},
   "outputs": [
    {
     "data": {
      "text/plain": [
       "array(['01 Andalucía', '02 Aragón', '03 Asturias, Principado de',\n",
       "       '04 Balears, Illes', '05 Canarias', '06 Cantabria',\n",
       "       '07 Castilla y León', '08 Castilla - La Mancha', '09 Cataluña',\n",
       "       '10 Comunitat Valenciana', '11 Extremadura', '12 Galicia',\n",
       "       '13 Madrid, Comunidad de', '14 Murcia, Región de',\n",
       "       '15 Navarra, Comunidad Foral de', '16 País Vasco', '17 Rioja, La',\n",
       "       '18 Ceuta', '19 Melilla'], dtype=object)"
      ]
     },
     "execution_count": 83,
     "metadata": {},
     "output_type": "execute_result"
    }
   ],
   "source": [
    "renta[\"Comunidad autónoma\"].unique()"
   ]
  },
  {
   "cell_type": "code",
   "execution_count": 84,
   "id": "5f1ee0b8",
   "metadata": {},
   "outputs": [],
   "source": [
    "renta[\"Comunidad autónoma\"] = renta[\"Comunidad autónoma\"].apply(lambda x: x.split(\" \", 1)[1])"
   ]
  },
  {
   "cell_type": "code",
   "execution_count": 85,
   "id": "ee65279b",
   "metadata": {},
   "outputs": [
    {
     "data": {
      "text/html": [
       "<div>\n",
       "<style scoped>\n",
       "    .dataframe tbody tr th:only-of-type {\n",
       "        vertical-align: middle;\n",
       "    }\n",
       "\n",
       "    .dataframe tbody tr th {\n",
       "        vertical-align: top;\n",
       "    }\n",
       "\n",
       "    .dataframe thead th {\n",
       "        text-align: right;\n",
       "    }\n",
       "</style>\n",
       "<table border=\"1\" class=\"dataframe\">\n",
       "  <thead>\n",
       "    <tr style=\"text-align: right;\">\n",
       "      <th></th>\n",
       "      <th>periodo</th>\n",
       "      <th>Comunidad autónoma</th>\n",
       "      <th>Renta anual</th>\n",
       "      <th>Total_renta</th>\n",
       "    </tr>\n",
       "  </thead>\n",
       "  <tbody>\n",
       "    <tr>\n",
       "      <th>1</th>\n",
       "      <td>2023</td>\n",
       "      <td>Andalucía</td>\n",
       "      <td>Renta neta media por persona</td>\n",
       "      <td>11719.0</td>\n",
       "    </tr>\n",
       "    <tr>\n",
       "      <th>2</th>\n",
       "      <td>2022</td>\n",
       "      <td>Andalucía</td>\n",
       "      <td>Renta neta media por persona</td>\n",
       "      <td>10703.0</td>\n",
       "    </tr>\n",
       "    <tr>\n",
       "      <th>3</th>\n",
       "      <td>2021</td>\n",
       "      <td>Andalucía</td>\n",
       "      <td>Renta neta media por persona</td>\n",
       "      <td>9915.0</td>\n",
       "    </tr>\n",
       "    <tr>\n",
       "      <th>5</th>\n",
       "      <td>2023</td>\n",
       "      <td>Aragón</td>\n",
       "      <td>Renta neta media por persona</td>\n",
       "      <td>14810.0</td>\n",
       "    </tr>\n",
       "    <tr>\n",
       "      <th>6</th>\n",
       "      <td>2022</td>\n",
       "      <td>Aragón</td>\n",
       "      <td>Renta neta media por persona</td>\n",
       "      <td>14015.0</td>\n",
       "    </tr>\n",
       "  </tbody>\n",
       "</table>\n",
       "</div>"
      ],
      "text/plain": [
       "   periodo Comunidad autónoma                   Renta anual  Total_renta\n",
       "1     2023          Andalucía  Renta neta media por persona      11719.0\n",
       "2     2022          Andalucía  Renta neta media por persona      10703.0\n",
       "3     2021          Andalucía  Renta neta media por persona       9915.0\n",
       "5     2023             Aragón  Renta neta media por persona      14810.0\n",
       "6     2022             Aragón  Renta neta media por persona      14015.0"
      ]
     },
     "execution_count": 85,
     "metadata": {},
     "output_type": "execute_result"
    }
   ],
   "source": [
    "renta.head()"
   ]
  },
  {
   "cell_type": "code",
   "execution_count": 86,
   "id": "a7d92d72",
   "metadata": {},
   "outputs": [],
   "source": [
    "renta = renta[renta[\"Comunidad autónoma\"] != \"Ceuta\"]\n",
    "renta = renta[renta[\"Comunidad autónoma\"] != \"Melilla\"]"
   ]
  },
  {
   "cell_type": "code",
   "execution_count": 87,
   "id": "4b09a112",
   "metadata": {},
   "outputs": [
    {
     "name": "stdout",
     "output_type": "stream",
     "text": [
      "<class 'pandas.core.frame.DataFrame'>\n",
      "Index: 51 entries, 1 to 67\n",
      "Data columns (total 4 columns):\n",
      " #   Column              Non-Null Count  Dtype  \n",
      "---  ------              --------------  -----  \n",
      " 0   periodo             51 non-null     int64  \n",
      " 1   Comunidad autónoma  51 non-null     object \n",
      " 2   Renta anual         51 non-null     object \n",
      " 3   Total_renta         51 non-null     float64\n",
      "dtypes: float64(1), int64(1), object(2)\n",
      "memory usage: 2.0+ KB\n"
     ]
    }
   ],
   "source": [
    "renta.info()"
   ]
  },
  {
   "cell_type": "code",
   "execution_count": 88,
   "id": "216c3645",
   "metadata": {},
   "outputs": [
    {
     "data": {
      "text/html": [
       "<div>\n",
       "<style scoped>\n",
       "    .dataframe tbody tr th:only-of-type {\n",
       "        vertical-align: middle;\n",
       "    }\n",
       "\n",
       "    .dataframe tbody tr th {\n",
       "        vertical-align: top;\n",
       "    }\n",
       "\n",
       "    .dataframe thead th {\n",
       "        text-align: right;\n",
       "    }\n",
       "</style>\n",
       "<table border=\"1\" class=\"dataframe\">\n",
       "  <thead>\n",
       "    <tr style=\"text-align: right;\">\n",
       "      <th></th>\n",
       "      <th>periodo</th>\n",
       "      <th>Comunidad autónoma</th>\n",
       "      <th>Renta anual</th>\n",
       "      <th>Total_renta</th>\n",
       "    </tr>\n",
       "  </thead>\n",
       "  <tbody>\n",
       "    <tr>\n",
       "      <th>1</th>\n",
       "      <td>2023</td>\n",
       "      <td>Andalucía</td>\n",
       "      <td>Renta neta media por persona</td>\n",
       "      <td>11719.0</td>\n",
       "    </tr>\n",
       "    <tr>\n",
       "      <th>5</th>\n",
       "      <td>2023</td>\n",
       "      <td>Aragón</td>\n",
       "      <td>Renta neta media por persona</td>\n",
       "      <td>14810.0</td>\n",
       "    </tr>\n",
       "    <tr>\n",
       "      <th>9</th>\n",
       "      <td>2023</td>\n",
       "      <td>Asturias, Principado de</td>\n",
       "      <td>Renta neta media por persona</td>\n",
       "      <td>15432.0</td>\n",
       "    </tr>\n",
       "    <tr>\n",
       "      <th>13</th>\n",
       "      <td>2023</td>\n",
       "      <td>Balears, Illes</td>\n",
       "      <td>Renta neta media por persona</td>\n",
       "      <td>14139.0</td>\n",
       "    </tr>\n",
       "    <tr>\n",
       "      <th>17</th>\n",
       "      <td>2023</td>\n",
       "      <td>Canarias</td>\n",
       "      <td>Renta neta media por persona</td>\n",
       "      <td>12177.0</td>\n",
       "    </tr>\n",
       "  </tbody>\n",
       "</table>\n",
       "</div>"
      ],
      "text/plain": [
       "    periodo       Comunidad autónoma                   Renta anual  \\\n",
       "1      2023                Andalucía  Renta neta media por persona   \n",
       "5      2023                   Aragón  Renta neta media por persona   \n",
       "9      2023  Asturias, Principado de  Renta neta media por persona   \n",
       "13     2023           Balears, Illes  Renta neta media por persona   \n",
       "17     2023                 Canarias  Renta neta media por persona   \n",
       "\n",
       "    Total_renta  \n",
       "1       11719.0  \n",
       "5       14810.0  \n",
       "9       15432.0  \n",
       "13      14139.0  \n",
       "17      12177.0  "
      ]
     },
     "execution_count": 88,
     "metadata": {},
     "output_type": "execute_result"
    }
   ],
   "source": [
    "renta.sort_values(by= [\"periodo\",\"Comunidad autónoma\", \"Renta anual\", \"Total_renta\"], ascending=[False, True, False, False], inplace=True)\n",
    "renta.head()"
   ]
  },
  {
   "cell_type": "markdown",
   "id": "14eacee4",
   "metadata": {},
   "source": [
    "## 💰 Ingresos"
   ]
  },
  {
   "cell_type": "code",
   "execution_count": 89,
   "id": "3da3f59c",
   "metadata": {},
   "outputs": [],
   "source": [
    "ingresos.rename(columns={'Indicador': 'Indicador_ingresos', 'Total': 'Total_ingresos'}, inplace=True)\n",
    "ingresos = ingresos[['periodo', 'Indicador_ingresos', 'Ingresos mensuales en el hogar', 'Total_ingresos']] "
   ]
  },
  {
   "cell_type": "code",
   "execution_count": 90,
   "id": "9f8ca5ac",
   "metadata": {},
   "outputs": [
    {
     "name": "stdout",
     "output_type": "stream",
     "text": [
      "<class 'pandas.core.frame.DataFrame'>\n",
      "RangeIndex: 280 entries, 0 to 279\n",
      "Data columns (total 4 columns):\n",
      " #   Column                          Non-Null Count  Dtype \n",
      "---  ------                          --------------  ----- \n",
      " 0   periodo                         280 non-null    int64 \n",
      " 1   Indicador_ingresos              280 non-null    object\n",
      " 2   Ingresos mensuales en el hogar  280 non-null    object\n",
      " 3   Total_ingresos                  280 non-null    object\n",
      "dtypes: int64(1), object(3)\n",
      "memory usage: 8.9+ KB\n"
     ]
    }
   ],
   "source": [
    "ingresos.info()"
   ]
  },
  {
   "cell_type": "code",
   "execution_count": 91,
   "id": "077d56c4",
   "metadata": {},
   "outputs": [],
   "source": [
    "ingresos[\"Total_ingresos\"] = ingresos[\"Total_ingresos\"].str.replace(r'\\.(?=[0-9]{3})', '', regex=True)  # Elimina los puntos de miles --> necesario para no tener NaN\n",
    "ingresos[\"Total_ingresos\"] = ingresos[\"Total_ingresos\"].str.replace(',', '.')  # Reemplaza la coma por punto\n",
    "ingresos['Total_ingresos'] = pd.to_numeric(ingresos['Total_ingresos'], errors='coerce')  # Convierte a numérico"
   ]
  },
  {
   "cell_type": "code",
   "execution_count": 92,
   "id": "67585073",
   "metadata": {},
   "outputs": [
    {
     "name": "stdout",
     "output_type": "stream",
     "text": [
      "<class 'pandas.core.frame.DataFrame'>\n",
      "RangeIndex: 280 entries, 0 to 279\n",
      "Data columns (total 4 columns):\n",
      " #   Column                          Non-Null Count  Dtype  \n",
      "---  ------                          --------------  -----  \n",
      " 0   periodo                         280 non-null    int64  \n",
      " 1   Indicador_ingresos              280 non-null    object \n",
      " 2   Ingresos mensuales en el hogar  280 non-null    object \n",
      " 3   Total_ingresos                  280 non-null    float64\n",
      "dtypes: float64(1), int64(1), object(2)\n",
      "memory usage: 8.9+ KB\n"
     ]
    }
   ],
   "source": [
    "ingresos.info()"
   ]
  },
  {
   "cell_type": "code",
   "execution_count": 93,
   "id": "3a7c9023",
   "metadata": {},
   "outputs": [
    {
     "data": {
      "text/plain": [
       "array([2023, 2022, 2021, 2020, 2019, 2018, 2017, 2016])"
      ]
     },
     "execution_count": 93,
     "metadata": {},
     "output_type": "execute_result"
    }
   ],
   "source": [
    "ingresos.periodo.unique()"
   ]
  },
  {
   "cell_type": "code",
   "execution_count": 94,
   "id": "4e791050",
   "metadata": {},
   "outputs": [],
   "source": [
    "ingresos = ingresos[ingresos.periodo >=2021]"
   ]
  },
  {
   "cell_type": "code",
   "execution_count": 95,
   "id": "0f80e1f4",
   "metadata": {},
   "outputs": [
    {
     "data": {
      "text/plain": [
       "array(['TOTAL (Millones de euros)',\n",
       "       'EN PORCENTAJE DEL GASTO EN EL TOTAL DE BIENES Y SERVICIOS',\n",
       "       'GASTO MEDIO POR HOGAR (Euros)',\n",
       "       'GASTO MEDIO POR UNIDAD DE CONSUMO (Euros)',\n",
       "       'GASTO MEDIO POR PERSONA (Euros)'], dtype=object)"
      ]
     },
     "execution_count": 95,
     "metadata": {},
     "output_type": "execute_result"
    }
   ],
   "source": [
    "ingresos[\"Indicador_ingresos\"].unique()"
   ]
  },
  {
   "cell_type": "code",
   "execution_count": 96,
   "id": "89f8233f",
   "metadata": {},
   "outputs": [],
   "source": [
    "ingresos = ingresos[ingresos[\"Indicador_ingresos\"] != \"GASTO MEDIO POR UNIDAD DE CONSUMO (Euros)\"]"
   ]
  },
  {
   "cell_type": "code",
   "execution_count": 97,
   "id": "68a87626",
   "metadata": {},
   "outputs": [
    {
     "data": {
      "text/html": [
       "<div>\n",
       "<style scoped>\n",
       "    .dataframe tbody tr th:only-of-type {\n",
       "        vertical-align: middle;\n",
       "    }\n",
       "\n",
       "    .dataframe tbody tr th {\n",
       "        vertical-align: top;\n",
       "    }\n",
       "\n",
       "    .dataframe thead th {\n",
       "        text-align: right;\n",
       "    }\n",
       "</style>\n",
       "<table border=\"1\" class=\"dataframe\">\n",
       "  <thead>\n",
       "    <tr style=\"text-align: right;\">\n",
       "      <th></th>\n",
       "      <th>periodo</th>\n",
       "      <th>Indicador_ingresos</th>\n",
       "      <th>Ingresos mensuales en el hogar</th>\n",
       "      <th>Total_ingresos</th>\n",
       "    </tr>\n",
       "  </thead>\n",
       "  <tbody>\n",
       "    <tr>\n",
       "      <th>0</th>\n",
       "      <td>2023</td>\n",
       "      <td>TOTAL (Millones de euros)</td>\n",
       "      <td>Total</td>\n",
       "      <td>11306.9</td>\n",
       "    </tr>\n",
       "    <tr>\n",
       "      <th>8</th>\n",
       "      <td>2023</td>\n",
       "      <td>TOTAL (Millones de euros)</td>\n",
       "      <td>Menos de 1.000 euros</td>\n",
       "      <td>493.6</td>\n",
       "    </tr>\n",
       "    <tr>\n",
       "      <th>40</th>\n",
       "      <td>2023</td>\n",
       "      <td>TOTAL (Millones de euros)</td>\n",
       "      <td>Entre 2.500 y 2.999 euros</td>\n",
       "      <td>1887.2</td>\n",
       "    </tr>\n",
       "    <tr>\n",
       "      <th>32</th>\n",
       "      <td>2023</td>\n",
       "      <td>TOTAL (Millones de euros)</td>\n",
       "      <td>Entre 2.000 y 2.499 euros</td>\n",
       "      <td>1437.6</td>\n",
       "    </tr>\n",
       "    <tr>\n",
       "      <th>24</th>\n",
       "      <td>2023</td>\n",
       "      <td>TOTAL (Millones de euros)</td>\n",
       "      <td>Entre 1.500 y 1.999 euros</td>\n",
       "      <td>1286.0</td>\n",
       "    </tr>\n",
       "  </tbody>\n",
       "</table>\n",
       "</div>"
      ],
      "text/plain": [
       "    periodo         Indicador_ingresos Ingresos mensuales en el hogar  \\\n",
       "0      2023  TOTAL (Millones de euros)                          Total   \n",
       "8      2023  TOTAL (Millones de euros)           Menos de 1.000 euros   \n",
       "40     2023  TOTAL (Millones de euros)      Entre 2.500 y 2.999 euros   \n",
       "32     2023  TOTAL (Millones de euros)      Entre 2.000 y 2.499 euros   \n",
       "24     2023  TOTAL (Millones de euros)      Entre 1.500 y 1.999 euros   \n",
       "\n",
       "    Total_ingresos  \n",
       "0          11306.9  \n",
       "8            493.6  \n",
       "40          1887.2  \n",
       "32          1437.6  \n",
       "24          1286.0  "
      ]
     },
     "execution_count": 97,
     "metadata": {},
     "output_type": "execute_result"
    }
   ],
   "source": [
    "ingresos.sort_values(by= [\"periodo\", \"Indicador_ingresos\", \"Ingresos mensuales en el hogar\"], ascending=[False, False, False], inplace=True)\n",
    "ingresos.head()"
   ]
  },
  {
   "cell_type": "markdown",
   "id": "fc6f1783",
   "metadata": {},
   "source": [
    "## 📊 Características"
   ]
  },
  {
   "cell_type": "code",
   "execution_count": 98,
   "id": "9dd54f5c",
   "metadata": {},
   "outputs": [],
   "source": [
    "caracteristicas.rename(columns={'Indicador': 'Indicador_caracteristicas', 'Total': 'Total_caracteristicas'}, inplace=True)\n",
    "caracteristicas = caracteristicas[['periodo', 'Indicador_caracteristicas', 'Características del sustentador principal', 'Total_caracteristicas']] "
   ]
  },
  {
   "cell_type": "code",
   "execution_count": 99,
   "id": "c5c0524f",
   "metadata": {},
   "outputs": [],
   "source": [
    "caracteristicas[\"Total_caracteristicas\"] = caracteristicas[\"Total_caracteristicas\"].str.replace(r'\\.(?=\\d{3})', '', regex=True)  # Elimina los puntos de miles --> necesario para no tener NaN\n",
    "caracteristicas[\"Total_caracteristicas\"] = caracteristicas[\"Total_caracteristicas\"].str.replace(',', '.')\n",
    "\n",
    "# Convertir a numérico (y evitar errores cuando hay valores como '..' )\n",
    "caracteristicas[\"Total_caracteristicas\"] = pd.to_numeric(caracteristicas[\"Total_caracteristicas\"], errors = \"coerce\")"
   ]
  },
  {
   "cell_type": "code",
   "execution_count": 100,
   "id": "b2702b10",
   "metadata": {},
   "outputs": [
    {
     "name": "stdout",
     "output_type": "stream",
     "text": [
      "<class 'pandas.core.frame.DataFrame'>\n",
      "RangeIndex: 1000 entries, 0 to 999\n",
      "Data columns (total 4 columns):\n",
      " #   Column                                     Non-Null Count  Dtype  \n",
      "---  ------                                     --------------  -----  \n",
      " 0   periodo                                    1000 non-null   int64  \n",
      " 1   Indicador_caracteristicas                  1000 non-null   object \n",
      " 2   Características del sustentador principal  1000 non-null   object \n",
      " 3   Total_caracteristicas                      1000 non-null   float64\n",
      "dtypes: float64(1), int64(1), object(2)\n",
      "memory usage: 31.4+ KB\n"
     ]
    }
   ],
   "source": [
    "caracteristicas.info()"
   ]
  },
  {
   "cell_type": "code",
   "execution_count": 101,
   "id": "8c0369e6",
   "metadata": {},
   "outputs": [
    {
     "data": {
      "text/plain": [
       "array([2023, 2022, 2021, 2020, 2019, 2018, 2017, 2016])"
      ]
     },
     "execution_count": 101,
     "metadata": {},
     "output_type": "execute_result"
    }
   ],
   "source": [
    "caracteristicas.periodo.unique()"
   ]
  },
  {
   "cell_type": "code",
   "execution_count": 102,
   "id": "29760965",
   "metadata": {},
   "outputs": [],
   "source": [
    "caracteristicas = caracteristicas[caracteristicas.periodo >=2021]"
   ]
  },
  {
   "cell_type": "code",
   "execution_count": 103,
   "id": "9b2a9718",
   "metadata": {},
   "outputs": [
    {
     "data": {
      "text/plain": [
       "array(['TOTAL (Millones de euros)',\n",
       "       'EN PORCENTAJE DEL GASTO EN EL TOTAL DE BIENES Y SERVICIOS',\n",
       "       'GASTO MEDIO POR HOGAR (Euros)',\n",
       "       'GASTO MEDIO POR UNIDAD DE CONSUMO (Euros)',\n",
       "       'GASTO MEDIO POR PERSONA (Euros)'], dtype=object)"
      ]
     },
     "execution_count": 103,
     "metadata": {},
     "output_type": "execute_result"
    }
   ],
   "source": [
    "caracteristicas.Indicador_caracteristicas.unique()"
   ]
  },
  {
   "cell_type": "code",
   "execution_count": 104,
   "id": "dcecf090",
   "metadata": {},
   "outputs": [],
   "source": [
    "caracteristicas = caracteristicas[caracteristicas[\"Indicador_caracteristicas\"] != \"GASTO MEDIO POR UNIDAD DE CONSUMO (Euros)\"]"
   ]
  },
  {
   "cell_type": "code",
   "execution_count": 105,
   "id": "85fd0d8e",
   "metadata": {},
   "outputs": [
    {
     "data": {
      "text/html": [
       "<div>\n",
       "<style scoped>\n",
       "    .dataframe tbody tr th:only-of-type {\n",
       "        vertical-align: middle;\n",
       "    }\n",
       "\n",
       "    .dataframe tbody tr th {\n",
       "        vertical-align: top;\n",
       "    }\n",
       "\n",
       "    .dataframe thead th {\n",
       "        text-align: right;\n",
       "    }\n",
       "</style>\n",
       "<table border=\"1\" class=\"dataframe\">\n",
       "  <thead>\n",
       "    <tr style=\"text-align: right;\">\n",
       "      <th></th>\n",
       "      <th>periodo</th>\n",
       "      <th>Indicador_caracteristicas</th>\n",
       "      <th>Características del sustentador principal</th>\n",
       "      <th>Total_caracteristicas</th>\n",
       "    </tr>\n",
       "  </thead>\n",
       "  <tbody>\n",
       "    <tr>\n",
       "      <th>184</th>\n",
       "      <td>2023</td>\n",
       "      <td>TOTAL (Millones de euros)</td>\n",
       "      <td>Tipo de hogar: Un adulto con hijos</td>\n",
       "      <td>864.9</td>\n",
       "    </tr>\n",
       "    <tr>\n",
       "      <th>144</th>\n",
       "      <td>2023</td>\n",
       "      <td>TOTAL (Millones de euros)</td>\n",
       "      <td>Tipo de hogar: Persona sola</td>\n",
       "      <td>1990.3</td>\n",
       "    </tr>\n",
       "    <tr>\n",
       "      <th>152</th>\n",
       "      <td>2023</td>\n",
       "      <td>TOTAL (Millones de euros)</td>\n",
       "      <td>Tipo de hogar: Pareja sin hijos</td>\n",
       "      <td>2221.6</td>\n",
       "    </tr>\n",
       "    <tr>\n",
       "      <th>160</th>\n",
       "      <td>2023</td>\n",
       "      <td>TOTAL (Millones de euros)</td>\n",
       "      <td>Tipo de hogar: Pareja con un hijo</td>\n",
       "      <td>2023.9</td>\n",
       "    </tr>\n",
       "    <tr>\n",
       "      <th>176</th>\n",
       "      <td>2023</td>\n",
       "      <td>TOTAL (Millones de euros)</td>\n",
       "      <td>Tipo de hogar: Pareja con tres o más hijos</td>\n",
       "      <td>851.3</td>\n",
       "    </tr>\n",
       "  </tbody>\n",
       "</table>\n",
       "</div>"
      ],
      "text/plain": [
       "     periodo  Indicador_caracteristicas  \\\n",
       "184     2023  TOTAL (Millones de euros)   \n",
       "144     2023  TOTAL (Millones de euros)   \n",
       "152     2023  TOTAL (Millones de euros)   \n",
       "160     2023  TOTAL (Millones de euros)   \n",
       "176     2023  TOTAL (Millones de euros)   \n",
       "\n",
       "      Características del sustentador principal  Total_caracteristicas  \n",
       "184          Tipo de hogar: Un adulto con hijos                  864.9  \n",
       "144                 Tipo de hogar: Persona sola                 1990.3  \n",
       "152             Tipo de hogar: Pareja sin hijos                 2221.6  \n",
       "160           Tipo de hogar: Pareja con un hijo                 2023.9  \n",
       "176  Tipo de hogar: Pareja con tres o más hijos                  851.3  "
      ]
     },
     "execution_count": 105,
     "metadata": {},
     "output_type": "execute_result"
    }
   ],
   "source": [
    "caracteristicas.sort_values(by= [\"periodo\", \"Indicador_caracteristicas\", \"Características del sustentador principal\"], ascending=[False, False, False], inplace=True)\n",
    "caracteristicas.head()"
   ]
  },
  {
   "cell_type": "markdown",
   "id": "16887b86",
   "metadata": {},
   "source": [
    "### Guardamos los datos"
   ]
  },
  {
   "cell_type": "code",
   "execution_count": null,
   "id": "8a424821",
   "metadata": {},
   "outputs": [],
   "source": [
    "with pd.ExcelWriter(\"../data/datos_tratados.xlsx\", engine=\"openpyxl\") as writer:\n",
    "    libros.to_excel(writer, sheet_name=\"libros\", index=False)\n",
    "    espectaculos.to_excel(writer, sheet_name=\"espectaculos\", index=False)\n",
    "    educacion.to_excel(writer, sheet_name=\"educacion\", index=False)\n",
    "    bys.to_excel(writer, sheet_name=\"bys\", index=False)\n",
    "    renta.to_excel(writer, sheet_name=\"renta\", index=False)\n",
    "    ingresos.to_excel(writer, sheet_name=\"ingresos\", index=False)\n",
    "    caracteristicas.to_excel(writer, sheet_name=\"caracteristicas\", index=False)"
   ]
  },
  {
   "cell_type": "code",
   "execution_count": null,
   "id": "12fa8103",
   "metadata": {},
   "outputs": [],
   "source": []
  }
 ],
 "metadata": {
  "kernelspec": {
   "display_name": "Python 3",
   "language": "python",
   "name": "python3"
  },
  "language_info": {
   "codemirror_mode": {
    "name": "ipython",
    "version": 3
   },
   "file_extension": ".py",
   "mimetype": "text/x-python",
   "name": "python",
   "nbconvert_exporter": "python",
   "pygments_lexer": "ipython3",
   "version": "3.13.1"
  }
 },
 "nbformat": 4,
 "nbformat_minor": 5
}
