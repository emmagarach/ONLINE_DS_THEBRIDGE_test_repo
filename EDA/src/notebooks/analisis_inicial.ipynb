{
 "cells": [
  {
   "cell_type": "markdown",
   "id": "5a2c2d35",
   "metadata": {},
   "source": [
    "## ANÁLISIS UNIVARIANTE"
   ]
  },
  {
   "cell_type": "code",
   "execution_count": 3,
   "id": "fc1e7930",
   "metadata": {},
   "outputs": [],
   "source": [
    "import numpy as np\n",
    "import pandas as pd\n",
    "import seaborn as sns\n",
    "import matplotlib.pyplot as plt"
   ]
  },
  {
   "cell_type": "code",
   "execution_count": null,
   "id": "468c1324",
   "metadata": {},
   "outputs": [],
   "source": [
    "xlsx = pd.ExcelFile(\"../data/datos_tratados.xlsx\")\n",
    "\n",
    "# Cargar cada hoja\n",
    "libros = xlsx.parse(\"libros\")\n",
    "espectaculos = xlsx.parse(\"espectaculos\")\n",
    "educacion = xlsx.parse(\"educacion\")\n",
    "bys = xlsx.parse(\"bys\")\n",
    "renta = xlsx.parse(\"renta\")\n",
    "\n",
    "#diferentes\n",
    "ingresos = xlsx.parse(\"ingresos\")\n",
    "caracteristicas = xlsx.parse(\"caracteristicas\")"
   ]
  },
  {
   "cell_type": "markdown",
   "id": "e15816f3",
   "metadata": {},
   "source": [
    "### Tablas"
   ]
  },
  {
   "cell_type": "markdown",
   "id": "cdf66cac",
   "metadata": {},
   "source": [
    "📘Libros\n",
    "| Variable           | Tipo              | Descripción                     |\n",
    "| ------------------ | ----------------- | ------------------------------- |\n",
    "| periodo            | Temporal          | Año del dato                    |\n",
    "| Comunidad autónoma | Categórica        | Comunidad Autónoma de España    |\n",
    "| Grupo de gasto | Categórica  | Tipo de producto: libro o publicaciones periódicas |\n",
    "| Indicador | Categórica | Total, gasto medio por hogar, gasto medio por persona |\n",
    "| Total_libros      | Numérica continua | Valor del indicador (€ o millones de €) |\n"
   ]
  },
  {
   "cell_type": "markdown",
   "id": "ea9c2004",
   "metadata": {},
   "source": [
    "🎭 Espectáculos\n",
    "| Variable           | Tipo              | Descripción                     |\n",
    "| ------------------ | ----------------- | ------------------------------- |\n",
    "| periodo            | Temporal          | Año del dato                    |\n",
    "| Comunidad autónoma | Categórica        | Comunidad Autónoma de España    |\n",
    "| Indicador | Categórica | Total, gasto medio por hogar, gasto medio por persona |\n",
    "| Total_espectaculos   | Numérica continua | Gasto o consumo total de espectaculos|"
   ]
  },
  {
   "cell_type": "markdown",
   "id": "86f3d941",
   "metadata": {},
   "source": [
    "🎓 Educacion\n",
    "| Variable                     | Tipo              | Descripción                                              |\n",
    "| ---------------------------- | ----------------- | -------------------------------------------------------- |\n",
    "| periodo                      | Temporal          | Año del dato                                             |\n",
    "| Comunidad autónoma           | Categórica        | Comunidad Autónoma de España                             |\n",
    "| Sexo                         | Categórica        | Hombre o mujer                                           |\n",
    "| Nivel de formación alcanzado | Categórica        | Categoría educativa (Primaria, ESO, Universitaria, etc.) |\n",
    "| Total_educacion          | Numérica continua | Porcentajes respecto del total de cada comunidad       |"
   ]
  },
  {
   "cell_type": "markdown",
   "id": "1881f73f",
   "metadata": {},
   "source": [
    "📰 bys (bienes y servicios culturales)\n",
    "| Variable           | Tipo              | Descripción                            |\n",
    "| ------------------ | ----------------- | -------------------------------------- |\n",
    "| periodo            | Temporal          | Año del dato                           |\n",
    "| Comunidad autónoma | Categórica        | Comunidad Autónoma de España           |\n",
    "| Grupo de gasto | Categórica | Libros y publicaciones periódicas, Servicios culturales |\n",
    "| Indicador | Categórica | Total, gasto medio por hogar, gasto medio por persona |\n",
    "| Total_bys         | Numérica continua | Gasto en bienes y servicios culturales |\n",
    "\n"
   ]
  },
  {
   "cell_type": "markdown",
   "id": "7003ac77",
   "metadata": {},
   "source": [
    " 💶 Renta\n",
    "| Variable           | Tipo              | Descripción                     |\n",
    "| ------------------ | ----------------- | ------------------------------- |\n",
    "| periodo            | Temporal          | Año del dato                    |\n",
    "| Comunidad autónoma | Categórica        | Comunidad Autónoma de España    |\n",
    "| Renta anual | Única | Renta neta media por persona |\n",
    "| Total_renta  | Numérica continua | Renta neta media por persona |"
   ]
  },
  {
   "cell_type": "markdown",
   "id": "dc5f32e1",
   "metadata": {},
   "source": [
    "💰 Ingresos\n",
    "| Variable           | Tipo              | Descripción                     |\n",
    "| ------------------ | ----------------- | ------------------------------- |\n",
    "| periodo            | Temporal          | Año del dato                    |\n",
    "| Indicador | Categórica | Total, gasto medio por hogar, gasto medio por persona |\n",
    "| Ingresos mensuales | Categórica | Total y rangos de ingresos\n",
    "| Total_ingresos  | Numérica continua | Gasto en bienes y servicios culturales|"
   ]
  },
  {
   "cell_type": "markdown",
   "id": "7d68feb0",
   "metadata": {},
   "source": [
    "📊 Características\n",
    "| Variable               | Tipo              | Descripción                                    |\n",
    "| ---------------------- | ----------------- | ---------------------------------------------- |\n",
    "| periodo                | Temporal          | Año del dato                                   |\n",
    "| Caracteristicas      | Categórica        | Tipo de hogar, situación laboral, nivel de estudios, sexo, grupo de edad, estado civil               |\n",
    "| Total_caracteristicas | Numérica continua | Total de gasto en cultura  |\n"
   ]
  },
  {
   "cell_type": "markdown",
   "id": "50fb999e",
   "metadata": {},
   "source": [
    "Nueva columna con periodo a datetime para posible análisis posterior"
   ]
  },
  {
   "cell_type": "code",
   "execution_count": 5,
   "id": "ba5e08d2",
   "metadata": {},
   "outputs": [],
   "source": [
    "def convertir_periodo_a_datetime(dataframes_dict, nueva_columna='periodo_dt'):\n",
    "    \"\"\"\n",
    "    Convierte la columna 'periodo' a datetime en cada DataFrame del diccionario.\n",
    "    Agrega una nueva columna con el nombre especificado.\n",
    "    \"\"\"\n",
    "    for nombre_hoja, df in dataframes_dict.items():\n",
    "        if 'periodo' in df.columns:\n",
    "            df[nueva_columna] = pd.to_datetime(df['periodo'], format='%Y') #crea por defecto mes y día (año-01-01)\n",
    "            df[nueva_columna] = df[nueva_columna].dt.year"
   ]
  },
  {
   "cell_type": "code",
   "execution_count": 6,
   "id": "6ce6e410",
   "metadata": {},
   "outputs": [],
   "source": [
    "dfs = {\"libros\": libros, \"espectaculos\": espectaculos, \"educacion\":educacion, \"bys\":bys, \"cine\":cine, \"ingresos\":ingresos, \"caracteristicas\":caracteristicas}\n",
    "dfs = convertir_periodo_a_datetime(dfs)"
   ]
  },
  {
   "cell_type": "markdown",
   "id": "40917d0a",
   "metadata": {},
   "source": [
    "## ANÁLISIS DE 📘LIBROS\n"
   ]
  },
  {
   "cell_type": "code",
   "execution_count": 7,
   "id": "9d543c24",
   "metadata": {},
   "outputs": [
    {
     "data": {
      "text/plain": [
       "array(['TOTAL (Millones de euros)', 'GASTO MEDIO POR HOGAR (Euros)',\n",
       "       'GASTO MEDIO POR PERSONA (Euros)'], dtype=object)"
      ]
     },
     "execution_count": 7,
     "metadata": {},
     "output_type": "execute_result"
    }
   ],
   "source": [
    "# Ver indicadores únicos\n",
    "libros[\"Indicador_libros\"].unique()"
   ]
  },
  {
   "cell_type": "code",
   "execution_count": 8,
   "id": "6e4a1909",
   "metadata": {},
   "outputs": [
    {
     "name": "stdout",
     "output_type": "stream",
     "text": [
      "GASTO MEDIO POR PERSONA (Euros): count    102.000000\n",
      "mean      24.345098\n",
      "std       16.111134\n",
      "min        1.300000\n",
      "25%        9.725000\n",
      "50%       23.000000\n",
      "75%       35.225000\n",
      "max       63.200000\n",
      "Name: Total_libros, dtype: float64 \n",
      "GASTO MEDIO POR HOGAR (Euros) count    102.000000\n",
      "mean      59.186275\n",
      "std       39.134923\n",
      "min        3.500000\n",
      "25%       24.375000\n",
      "50%       58.350000\n",
      "75%       85.825000\n",
      "max      164.300000\n",
      "Name: Total_libros, dtype: float64 \n",
      "TOTAL (Millones de euros) count    102.000000\n",
      "mean      62.342157\n",
      "std       78.798880\n",
      "min        2.000000\n",
      "25%       15.025000\n",
      "50%       36.900000\n",
      "75%       67.950000\n",
      "max      433.300000\n",
      "Name: Total_libros, dtype: float64\n"
     ]
    }
   ],
   "source": [
    "# Filtrar por un indicador específico:\n",
    "indicador1 = \"GASTO MEDIO POR PERSONA (Euros)\"\n",
    "indicador2 = \"GASTO MEDIO POR HOGAR (Euros)\"\n",
    "indicador3 = \"TOTAL (Millones de euros)\"\n",
    "\n",
    "libros_filtrado1 = libros[libros[\"Indicador_libros\"] == indicador1]\n",
    "libros_filtrado2 = libros[libros[\"Indicador_libros\"] == indicador2]\n",
    "libros_filtrado3 = libros[libros[\"Indicador_libros\"] == indicador3]\n",
    "\n",
    "\n",
    "print(\"GASTO MEDIO POR PERSONA (Euros):\",libros_filtrado1[\"Total_libros\"].describe(), \"\\nGASTO MEDIO POR HOGAR (Euros)\",libros_filtrado2[\"Total_libros\"].describe(),\"\\nTOTAL (Millones de euros)\", libros_filtrado3[\"Total_libros\"].describe())\n"
   ]
  },
  {
   "cell_type": "markdown",
   "id": "31be8fd8",
   "metadata": {},
   "source": [
    "Nos vamos a centrar en GASTO MEDIO POR PERSONA.\n",
    "\n",
    "La media está en 24,34%"
   ]
  },
  {
   "cell_type": "code",
   "execution_count": 9,
   "id": "03f4a91e",
   "metadata": {},
   "outputs": [
    {
     "data": {
      "text/plain": [
       "Comunidad autónoma\n",
       "Andalucía                       12.716667\n",
       "Canarias                        13.750000\n",
       "Castilla-La Mancha              16.816667\n",
       "Comunitat Valenciana            17.600000\n",
       "Extremadura                     17.883333\n",
       "Cantabria                       21.183333\n",
       "Murcia (Región de)              22.050000\n",
       "Balears (Illes)                 24.700000\n",
       "Cataluña                        25.083333\n",
       "Madrid (Comunidad de)           27.366667\n",
       "Aragón                          28.900000\n",
       "Galicia                         29.100000\n",
       "Rioja (La)                      29.266667\n",
       "Asturias (Principado de)        30.083333\n",
       "Navarra (Comunidad Foral de)    30.400000\n",
       "País Vasco                      33.350000\n",
       "Castilla y León                 33.616667\n",
       "Name: Total_libros, dtype: float64"
      ]
     },
     "execution_count": 9,
     "metadata": {},
     "output_type": "execute_result"
    }
   ],
   "source": [
    "media_por_comunidad = libros_filtrado1.groupby([\"Comunidad autónoma\"])[\"Total_libros\"].mean() \n",
    "media_por_comunidad.sort_values()"
   ]
  },
  {
   "cell_type": "code",
   "execution_count": 10,
   "id": "2e6a7e3d",
   "metadata": {},
   "outputs": [
    {
     "data": {
      "text/plain": [
       "Comunidad autónoma\n",
       "Andalucía               12.716667\n",
       "Canarias                13.750000\n",
       "Castilla-La Mancha      16.816667\n",
       "Comunitat Valenciana    17.600000\n",
       "Extremadura             17.883333\n",
       "Cantabria               21.183333\n",
       "Murcia (Región de)      22.050000\n",
       "Name: Total_libros, dtype: float64"
      ]
     },
     "execution_count": 10,
     "metadata": {},
     "output_type": "execute_result"
    }
   ],
   "source": [
    "# Filtrar las comunidades por debajo de la media\n",
    "media_por_comunidad[media_por_comunidad < 24.34].sort_values()"
   ]
  },
  {
   "cell_type": "code",
   "execution_count": 11,
   "id": "e65cdb82",
   "metadata": {},
   "outputs": [
    {
     "data": {
      "text/plain": [
       "Comunidad autónoma\n",
       "Castilla y León                 33.616667\n",
       "País Vasco                      33.350000\n",
       "Navarra (Comunidad Foral de)    30.400000\n",
       "Name: Total_libros, dtype: float64"
      ]
     },
     "execution_count": 11,
     "metadata": {},
     "output_type": "execute_result"
    }
   ],
   "source": [
    "# Top 3\n",
    "libros_filtrado1.groupby([\"Comunidad autónoma\"])[\"Total_libros\"].mean().nlargest(3)"
   ]
  },
  {
   "cell_type": "markdown",
   "id": "a61f4a6c",
   "metadata": {},
   "source": [
    "Ahora haciendo distinción entre Libros y Publicaciones periódicas"
   ]
  },
  {
   "cell_type": "code",
   "execution_count": 12,
   "id": "df87eac7",
   "metadata": {},
   "outputs": [
    {
     "data": {
      "text/plain": [
       "Comunidad autónoma            Grupo de gasto_libros   \n",
       "Andalucía                     Libro                       20.900000\n",
       "                              Publicaciones periódicas     4.533333\n",
       "Aragón                        Libro                       44.566667\n",
       "                              Publicaciones periódicas    13.233333\n",
       "Asturias (Principado de)      Libro                       42.933333\n",
       "                              Publicaciones periódicas    17.233333\n",
       "Balears (Illes)               Libro                       41.100000\n",
       "                              Publicaciones periódicas     8.300000\n",
       "Canarias                      Libro                       23.566667\n",
       "                              Publicaciones periódicas     3.933333\n",
       "Cantabria                     Libro                       24.200000\n",
       "                              Publicaciones periódicas    18.166667\n",
       "Castilla y León               Libro                       51.633333\n",
       "                              Publicaciones periódicas    15.600000\n",
       "Castilla-La Mancha            Libro                       29.566667\n",
       "                              Publicaciones periódicas     4.066667\n",
       "Cataluña                      Libro                       42.533333\n",
       "                              Publicaciones periódicas     7.633333\n",
       "Comunitat Valenciana          Libro                       29.700000\n",
       "                              Publicaciones periódicas     5.500000\n",
       "Extremadura                   Libro                       30.466667\n",
       "                              Publicaciones periódicas     5.300000\n",
       "Galicia                       Libro                       43.366667\n",
       "                              Publicaciones periódicas    14.833333\n",
       "Madrid (Comunidad de)         Libro                       46.866667\n",
       "                              Publicaciones periódicas     7.866667\n",
       "Murcia (Región de)            Libro                       41.200000\n",
       "                              Publicaciones periódicas     2.900000\n",
       "Navarra (Comunidad Foral de)  Libro                       30.733333\n",
       "                              Publicaciones periódicas    30.066667\n",
       "País Vasco                    Libro                       35.333333\n",
       "                              Publicaciones periódicas    31.366667\n",
       "Rioja (La)                    Libro                       46.833333\n",
       "                              Publicaciones periódicas    11.700000\n",
       "Name: Total_libros, dtype: float64"
      ]
     },
     "execution_count": 12,
     "metadata": {},
     "output_type": "execute_result"
    }
   ],
   "source": [
    "media_grupo=libros_filtrado1.groupby([\"Comunidad autónoma\", \"Grupo de gasto_libros\"])[\"Total_libros\"].mean() \n",
    "media_grupo"
   ]
  },
  {
   "cell_type": "code",
   "execution_count": 13,
   "id": "3b6cf993",
   "metadata": {},
   "outputs": [],
   "source": [
    "media_grupo = pd.DataFrame(media_grupo)\n",
    "media_grupo_reset = media_grupo.reset_index() # convertir comunidad y grupo en columnas"
   ]
  },
  {
   "cell_type": "code",
   "execution_count": 14,
   "id": "65b435bf",
   "metadata": {},
   "outputs": [
    {
     "data": {
      "text/html": [
       "<div>\n",
       "<style scoped>\n",
       "    .dataframe tbody tr th:only-of-type {\n",
       "        vertical-align: middle;\n",
       "    }\n",
       "\n",
       "    .dataframe tbody tr th {\n",
       "        vertical-align: top;\n",
       "    }\n",
       "\n",
       "    .dataframe thead th {\n",
       "        text-align: right;\n",
       "    }\n",
       "</style>\n",
       "<table border=\"1\" class=\"dataframe\">\n",
       "  <thead>\n",
       "    <tr style=\"text-align: right;\">\n",
       "      <th></th>\n",
       "      <th>Comunidad autónoma</th>\n",
       "      <th>Grupo de gasto_libros</th>\n",
       "      <th>Total_libros</th>\n",
       "    </tr>\n",
       "  </thead>\n",
       "  <tbody>\n",
       "    <tr>\n",
       "      <th>12</th>\n",
       "      <td>Castilla y León</td>\n",
       "      <td>Libro</td>\n",
       "      <td>51.633333</td>\n",
       "    </tr>\n",
       "    <tr>\n",
       "      <th>24</th>\n",
       "      <td>Madrid (Comunidad de)</td>\n",
       "      <td>Libro</td>\n",
       "      <td>46.866667</td>\n",
       "    </tr>\n",
       "    <tr>\n",
       "      <th>32</th>\n",
       "      <td>Rioja (La)</td>\n",
       "      <td>Libro</td>\n",
       "      <td>46.833333</td>\n",
       "    </tr>\n",
       "  </tbody>\n",
       "</table>\n",
       "</div>"
      ],
      "text/plain": [
       "       Comunidad autónoma Grupo de gasto_libros  Total_libros\n",
       "12        Castilla y León                 Libro     51.633333\n",
       "24  Madrid (Comunidad de)                 Libro     46.866667\n",
       "32             Rioja (La)                 Libro     46.833333"
      ]
     },
     "execution_count": 14,
     "metadata": {},
     "output_type": "execute_result"
    }
   ],
   "source": [
    "#Para poder consultar solo libros\n",
    "solo_libros = media_grupo_reset[media_grupo_reset[\"Grupo de gasto_libros\"].isin([\"Libro\"])]\n",
    "\n",
    "solo_libros.nlargest(3,\"Total_libros\")"
   ]
  },
  {
   "cell_type": "code",
   "execution_count": 15,
   "id": "c88ea42f",
   "metadata": {},
   "outputs": [
    {
     "data": {
      "text/html": [
       "<div>\n",
       "<style scoped>\n",
       "    .dataframe tbody tr th:only-of-type {\n",
       "        vertical-align: middle;\n",
       "    }\n",
       "\n",
       "    .dataframe tbody tr th {\n",
       "        vertical-align: top;\n",
       "    }\n",
       "\n",
       "    .dataframe thead th {\n",
       "        text-align: right;\n",
       "    }\n",
       "</style>\n",
       "<table border=\"1\" class=\"dataframe\">\n",
       "  <thead>\n",
       "    <tr style=\"text-align: right;\">\n",
       "      <th></th>\n",
       "      <th>Comunidad autónoma</th>\n",
       "      <th>Grupo de gasto_libros</th>\n",
       "      <th>Total_libros</th>\n",
       "    </tr>\n",
       "  </thead>\n",
       "  <tbody>\n",
       "    <tr>\n",
       "      <th>0</th>\n",
       "      <td>Andalucía</td>\n",
       "      <td>Libro</td>\n",
       "      <td>20.900000</td>\n",
       "    </tr>\n",
       "    <tr>\n",
       "      <th>8</th>\n",
       "      <td>Canarias</td>\n",
       "      <td>Libro</td>\n",
       "      <td>23.566667</td>\n",
       "    </tr>\n",
       "    <tr>\n",
       "      <th>10</th>\n",
       "      <td>Cantabria</td>\n",
       "      <td>Libro</td>\n",
       "      <td>24.200000</td>\n",
       "    </tr>\n",
       "  </tbody>\n",
       "</table>\n",
       "</div>"
      ],
      "text/plain": [
       "   Comunidad autónoma Grupo de gasto_libros  Total_libros\n",
       "0           Andalucía                 Libro     20.900000\n",
       "8            Canarias                 Libro     23.566667\n",
       "10          Cantabria                 Libro     24.200000"
      ]
     },
     "execution_count": 15,
     "metadata": {},
     "output_type": "execute_result"
    }
   ],
   "source": [
    "solo_libros.nsmallest(3,\"Total_libros\")"
   ]
  },
  {
   "cell_type": "code",
   "execution_count": 16,
   "id": "49621956",
   "metadata": {},
   "outputs": [
    {
     "data": {
      "text/html": [
       "<div>\n",
       "<style scoped>\n",
       "    .dataframe tbody tr th:only-of-type {\n",
       "        vertical-align: middle;\n",
       "    }\n",
       "\n",
       "    .dataframe tbody tr th {\n",
       "        vertical-align: top;\n",
       "    }\n",
       "\n",
       "    .dataframe thead th {\n",
       "        text-align: right;\n",
       "    }\n",
       "</style>\n",
       "<table border=\"1\" class=\"dataframe\">\n",
       "  <thead>\n",
       "    <tr style=\"text-align: right;\">\n",
       "      <th></th>\n",
       "      <th>Comunidad autónoma</th>\n",
       "      <th>Grupo de gasto_libros</th>\n",
       "      <th>Total_libros</th>\n",
       "    </tr>\n",
       "  </thead>\n",
       "  <tbody>\n",
       "    <tr>\n",
       "      <th>31</th>\n",
       "      <td>País Vasco</td>\n",
       "      <td>Publicaciones periódicas</td>\n",
       "      <td>31.366667</td>\n",
       "    </tr>\n",
       "    <tr>\n",
       "      <th>29</th>\n",
       "      <td>Navarra (Comunidad Foral de)</td>\n",
       "      <td>Publicaciones periódicas</td>\n",
       "      <td>30.066667</td>\n",
       "    </tr>\n",
       "    <tr>\n",
       "      <th>11</th>\n",
       "      <td>Cantabria</td>\n",
       "      <td>Publicaciones periódicas</td>\n",
       "      <td>18.166667</td>\n",
       "    </tr>\n",
       "    <tr>\n",
       "      <th>5</th>\n",
       "      <td>Asturias (Principado de)</td>\n",
       "      <td>Publicaciones periódicas</td>\n",
       "      <td>17.233333</td>\n",
       "    </tr>\n",
       "    <tr>\n",
       "      <th>13</th>\n",
       "      <td>Castilla y León</td>\n",
       "      <td>Publicaciones periódicas</td>\n",
       "      <td>15.600000</td>\n",
       "    </tr>\n",
       "    <tr>\n",
       "      <th>23</th>\n",
       "      <td>Galicia</td>\n",
       "      <td>Publicaciones periódicas</td>\n",
       "      <td>14.833333</td>\n",
       "    </tr>\n",
       "    <tr>\n",
       "      <th>3</th>\n",
       "      <td>Aragón</td>\n",
       "      <td>Publicaciones periódicas</td>\n",
       "      <td>13.233333</td>\n",
       "    </tr>\n",
       "    <tr>\n",
       "      <th>33</th>\n",
       "      <td>Rioja (La)</td>\n",
       "      <td>Publicaciones periódicas</td>\n",
       "      <td>11.700000</td>\n",
       "    </tr>\n",
       "    <tr>\n",
       "      <th>7</th>\n",
       "      <td>Balears (Illes)</td>\n",
       "      <td>Publicaciones periódicas</td>\n",
       "      <td>8.300000</td>\n",
       "    </tr>\n",
       "    <tr>\n",
       "      <th>25</th>\n",
       "      <td>Madrid (Comunidad de)</td>\n",
       "      <td>Publicaciones periódicas</td>\n",
       "      <td>7.866667</td>\n",
       "    </tr>\n",
       "    <tr>\n",
       "      <th>17</th>\n",
       "      <td>Cataluña</td>\n",
       "      <td>Publicaciones periódicas</td>\n",
       "      <td>7.633333</td>\n",
       "    </tr>\n",
       "    <tr>\n",
       "      <th>19</th>\n",
       "      <td>Comunitat Valenciana</td>\n",
       "      <td>Publicaciones periódicas</td>\n",
       "      <td>5.500000</td>\n",
       "    </tr>\n",
       "    <tr>\n",
       "      <th>21</th>\n",
       "      <td>Extremadura</td>\n",
       "      <td>Publicaciones periódicas</td>\n",
       "      <td>5.300000</td>\n",
       "    </tr>\n",
       "    <tr>\n",
       "      <th>1</th>\n",
       "      <td>Andalucía</td>\n",
       "      <td>Publicaciones periódicas</td>\n",
       "      <td>4.533333</td>\n",
       "    </tr>\n",
       "    <tr>\n",
       "      <th>15</th>\n",
       "      <td>Castilla-La Mancha</td>\n",
       "      <td>Publicaciones periódicas</td>\n",
       "      <td>4.066667</td>\n",
       "    </tr>\n",
       "    <tr>\n",
       "      <th>9</th>\n",
       "      <td>Canarias</td>\n",
       "      <td>Publicaciones periódicas</td>\n",
       "      <td>3.933333</td>\n",
       "    </tr>\n",
       "    <tr>\n",
       "      <th>27</th>\n",
       "      <td>Murcia (Región de)</td>\n",
       "      <td>Publicaciones periódicas</td>\n",
       "      <td>2.900000</td>\n",
       "    </tr>\n",
       "  </tbody>\n",
       "</table>\n",
       "</div>"
      ],
      "text/plain": [
       "              Comunidad autónoma     Grupo de gasto_libros  Total_libros\n",
       "31                    País Vasco  Publicaciones periódicas     31.366667\n",
       "29  Navarra (Comunidad Foral de)  Publicaciones periódicas     30.066667\n",
       "11                     Cantabria  Publicaciones periódicas     18.166667\n",
       "5       Asturias (Principado de)  Publicaciones periódicas     17.233333\n",
       "13               Castilla y León  Publicaciones periódicas     15.600000\n",
       "23                       Galicia  Publicaciones periódicas     14.833333\n",
       "3                         Aragón  Publicaciones periódicas     13.233333\n",
       "33                    Rioja (La)  Publicaciones periódicas     11.700000\n",
       "7                Balears (Illes)  Publicaciones periódicas      8.300000\n",
       "25         Madrid (Comunidad de)  Publicaciones periódicas      7.866667\n",
       "17                      Cataluña  Publicaciones periódicas      7.633333\n",
       "19          Comunitat Valenciana  Publicaciones periódicas      5.500000\n",
       "21                   Extremadura  Publicaciones periódicas      5.300000\n",
       "1                      Andalucía  Publicaciones periódicas      4.533333\n",
       "15            Castilla-La Mancha  Publicaciones periódicas      4.066667\n",
       "9                       Canarias  Publicaciones periódicas      3.933333\n",
       "27            Murcia (Región de)  Publicaciones periódicas      2.900000"
      ]
     },
     "execution_count": 16,
     "metadata": {},
     "output_type": "execute_result"
    }
   ],
   "source": [
    "#Para poder consultar solo publicaciones periodicas\n",
    "periodicos = media_grupo_reset[media_grupo_reset[\"Grupo de gasto_libros\"].isin([\"Publicaciones periódicas\"])]\n",
    "\n",
    "periodicos.sort_values(by=\"Total_libros\", ascending=False)"
   ]
  },
  {
   "cell_type": "code",
   "execution_count": 17,
   "id": "576aadc0",
   "metadata": {},
   "outputs": [
    {
     "data": {
      "text/html": [
       "<div>\n",
       "<style scoped>\n",
       "    .dataframe tbody tr th:only-of-type {\n",
       "        vertical-align: middle;\n",
       "    }\n",
       "\n",
       "    .dataframe tbody tr th {\n",
       "        vertical-align: top;\n",
       "    }\n",
       "\n",
       "    .dataframe thead th {\n",
       "        text-align: right;\n",
       "    }\n",
       "</style>\n",
       "<table border=\"1\" class=\"dataframe\">\n",
       "  <thead>\n",
       "    <tr style=\"text-align: right;\">\n",
       "      <th></th>\n",
       "      <th></th>\n",
       "      <th>Total_libros</th>\n",
       "    </tr>\n",
       "    <tr>\n",
       "      <th>Comunidad autónoma</th>\n",
       "      <th>Grupo de gasto_libros</th>\n",
       "      <th></th>\n",
       "    </tr>\n",
       "  </thead>\n",
       "  <tbody>\n",
       "    <tr>\n",
       "      <th rowspan=\"2\" valign=\"top\">País Vasco</th>\n",
       "      <th>Libro</th>\n",
       "      <td>35.333333</td>\n",
       "    </tr>\n",
       "    <tr>\n",
       "      <th>Publicaciones periódicas</th>\n",
       "      <td>31.366667</td>\n",
       "    </tr>\n",
       "    <tr>\n",
       "      <th rowspan=\"2\" valign=\"top\">Navarra (Comunidad Foral de)</th>\n",
       "      <th>Libro</th>\n",
       "      <td>30.733333</td>\n",
       "    </tr>\n",
       "    <tr>\n",
       "      <th>Publicaciones periódicas</th>\n",
       "      <td>30.066667</td>\n",
       "    </tr>\n",
       "  </tbody>\n",
       "</table>\n",
       "</div>"
      ],
      "text/plain": [
       "                                                       Total_libros\n",
       "Comunidad autónoma           Grupo de gasto_libros                 \n",
       "País Vasco                   Libro                        35.333333\n",
       "                             Publicaciones periódicas     31.366667\n",
       "Navarra (Comunidad Foral de) Libro                        30.733333\n",
       "                             Publicaciones periódicas     30.066667"
      ]
     },
     "execution_count": 17,
     "metadata": {},
     "output_type": "execute_result"
    }
   ],
   "source": [
    "# Filtrar por País Vasco y Navarra\n",
    "seleccion = media_grupo.loc[[\"País Vasco\", \"Navarra (Comunidad Foral de)\"]]\n",
    "seleccion"
   ]
  },
  {
   "cell_type": "markdown",
   "id": "3f1bc7e9",
   "metadata": {},
   "source": [
    "GRÁFICAS"
   ]
  },
  {
   "cell_type": "code",
   "execution_count": 18,
   "id": "99342fe7",
   "metadata": {},
   "outputs": [],
   "source": [
    "media_por_comunidad = pd.DataFrame(media_por_comunidad)"
   ]
  },
  {
   "cell_type": "code",
   "execution_count": 19,
   "id": "1a67ea2c",
   "metadata": {},
   "outputs": [
    {
     "data": {
      "image/png": "[encoded data removed]",
      "text/plain": [
       "<Figure size 640x480 with 1 Axes>"
      ]
     },
     "metadata": {},
     "output_type": "display_data"
    }
   ],
   "source": [
    "sns.barplot(data= media_por_comunidad.sort_values(\"Total_libros\", ascending=False), x=\"Total_libros\", y=\"Comunidad autónoma\", hue=\"Comunidad autónoma\", palette=\"summer\")\n",
    "plt.title(\"Gasto medio por persona y por comunidad autónoma\")\n",
    "plt.xlabel(\"Euros\")\n",
    "plt.ylabel(\"Comunidad Autónoma\")\n",
    "plt.show()"
   ]
  },
  {
   "cell_type": "code",
   "execution_count": 20,
   "id": "9bf258f2",
   "metadata": {},
   "outputs": [
    {
     "data": {
      "image/png": "[encoded data removed]",
      "text/plain": [
       "<Figure size 640x480 with 1 Axes>"
      ]
     },
     "metadata": {},
     "output_type": "display_data"
    }
   ],
   "source": [
    "sns.barplot(data=solo_libros.sort_values(\"Total_libros\", ascending=False), x=\"Total_libros\", y=\"Comunidad autónoma\", hue=\"Comunidad autónoma\", palette=\"autumn\")\n",
    "plt.title(\"Gasto medio por persona en libros por comunidad autónoma\")\n",
    "plt.xlabel(\"Euros\")\n",
    "plt.ylabel(\"Comunidad Autónoma\")\n",
    "plt.show()"
   ]
  },
  {
   "cell_type": "code",
   "execution_count": 21,
   "id": "ccc98ad5",
   "metadata": {},
   "outputs": [
    {
     "data": {
      "image/png": "[encoded data removed]",
      "text/plain": [
       "<Figure size 640x480 with 1 Axes>"
      ]
     },
     "metadata": {},
     "output_type": "display_data"
    }
   ],
   "source": [
    "sns.barplot(data=periodicos.sort_values(\"Total_libros\", ascending=False), x=\"Total_libros\", y=\"Comunidad autónoma\", hue=\"Comunidad autónoma\", palette=\"winter\")\n",
    "plt.title(\"Gasto medio por persona en publicaciones periodicas por comunidad autónoma\")\n",
    "plt.xlabel(\"Euros\")\n",
    "plt.ylabel(\"Comunidad Autónoma\")\n",
    "plt.show()"
   ]
  },
  {
   "cell_type": "markdown",
   "id": "11d2c976",
   "metadata": {},
   "source": [
    "**¿QUÉ SABEMOS?**\n",
    "\n",
    "POR GASTO MEDIO DE PERSONA entre 2021-2023\n",
    "\n",
    "Las 3 comunidades con *mayor* gasto son\n",
    "* Castilla y León                 \n",
    "* País Vasco                      \n",
    "* Navarra (Comunidad Foral de)   \n",
    "\n",
    "Las 3 comunidades con *menor* gasto son\n",
    "* Andalucía               \n",
    "* Canarias                \n",
    "* Castilla-La Mancha      \n",
    "\n",
    "Pero si diferenciamos entre libros y publicaciones periódicas. Los libros tienen en todas las comunidades mayor consumo.\n",
    "\n",
    "Top 3 libros:\n",
    "* Castilla y León        \n",
    "* Madrid (Comunidad de)  \n",
    "* Rioja (La)\n",
    "\n",
    "Últimas tres:\n",
    "* Andalucía\n",
    "* Canarias\n",
    "* Cantabria\n",
    "\n",
    "Top 3 publicaciones periodicas:\n",
    "* País Vasco\t\n",
    "* Navarra (Comunidad Foral de)\t\n",
    "* Cantabria\t\n",
    "\n",
    "Últimas tres:\n",
    "* Murcia\n",
    "* Canarias\n",
    "* Castilla-La Mancha\n",
    "\n",
    "Las comunidades de Navarra y País Vasco son destacables por tener cifras muy similares en ambos"
   ]
  },
  {
   "cell_type": "markdown",
   "id": "28e4b619",
   "metadata": {},
   "source": [
    "**Conclusión inicial sobre el gasto en libros y publicaciones periódicas:**\n",
    "\n",
    "El consumo cultural en formato impreso varía notablemente entre comunidades. Castilla y León lidera el gasto en libros, mientras que País Vasco y Navarra destacan por un equilibrio casi idéntico entre libros y publicaciones periódicas, lo que sugiere una cultura de lectura más diversificada. En contraste, Andalucía y Canarias muestran un menor gasto en ambos formatos, reflejando posibles diferencias en hábitos o acceso cultural."
   ]
  },
  {
   "cell_type": "markdown",
   "id": "b392085c",
   "metadata": {},
   "source": [
    "ANÁLISIS BREVE DE TOTAL"
   ]
  },
  {
   "cell_type": "code",
   "execution_count": 22,
   "id": "ce35d201",
   "metadata": {},
   "outputs": [
    {
     "name": "stdout",
     "output_type": "stream",
     "text": [
      "TOTAL (Millones de euros)\n"
     ]
    },
    {
     "data": {
      "text/plain": [
       "Comunidad autónoma\n",
       "Cataluña                        192.266667\n",
       "Madrid (Comunidad de)           184.933333\n",
       "Andalucía                       107.750000\n",
       "Comunitat Valenciana             89.666667\n",
       "Castilla y León                  78.583333\n",
       "Galicia                          77.783333\n",
       "País Vasco                       72.266667\n",
       "Aragón                           37.700000\n",
       "Castilla-La Mancha               34.400000\n",
       "Murcia (Región de)               33.700000\n",
       "Canarias                         30.683333\n",
       "Balears (Illes)                  30.033333\n",
       "Asturias (Principado de)         30.000000\n",
       "Navarra (Comunidad Foral de)     19.916667\n",
       "Extremadura                      18.616667\n",
       "Cantabria                        12.300000\n",
       "Rioja (La)                        9.216667\n",
       "Name: Total_libros, dtype: float64"
      ]
     },
     "execution_count": 22,
     "metadata": {},
     "output_type": "execute_result"
    }
   ],
   "source": [
    "print(\"TOTAL (Millones de euros)\")\n",
    "libros_total= libros_filtrado3.groupby([\"Comunidad autónoma\"])[\"Total_libros\"].mean()\n",
    "libros_total.sort_values(ascending=False)"
   ]
  },
  {
   "cell_type": "code",
   "execution_count": 23,
   "id": "45d58eb5",
   "metadata": {},
   "outputs": [
    {
     "name": "stdout",
     "output_type": "stream",
     "text": [
      "TOTAL (Millones de euros)\n"
     ]
    },
    {
     "data": {
      "text/plain": [
       "Comunidad autónoma     Grupo de gasto_libros\n",
       "Cataluña               Libro                    326.266667\n",
       "Madrid (Comunidad de)  Libro                    316.900000\n",
       "Andalucía              Libro                    177.233333\n",
       "Name: Total_libros, dtype: float64"
      ]
     },
     "execution_count": 23,
     "metadata": {},
     "output_type": "execute_result"
    }
   ],
   "source": [
    "print(\"TOTAL (Millones de euros)\")\n",
    "libros_total= libros_filtrado3.groupby([\"Comunidad autónoma\", \"Grupo de gasto_libros\"])[\"Total_libros\"].mean()\n",
    "libros_total.nlargest(3)"
   ]
  },
  {
   "cell_type": "code",
   "execution_count": 24,
   "id": "61a3c779",
   "metadata": {},
   "outputs": [
    {
     "data": {
      "text/html": [
       "<div>\n",
       "<style scoped>\n",
       "    .dataframe tbody tr th:only-of-type {\n",
       "        vertical-align: middle;\n",
       "    }\n",
       "\n",
       "    .dataframe tbody tr th {\n",
       "        vertical-align: top;\n",
       "    }\n",
       "\n",
       "    .dataframe thead th {\n",
       "        text-align: right;\n",
       "    }\n",
       "</style>\n",
       "<table border=\"1\" class=\"dataframe\">\n",
       "  <thead>\n",
       "    <tr style=\"text-align: right;\">\n",
       "      <th></th>\n",
       "      <th>Comunidad autónoma</th>\n",
       "      <th>Grupo de gasto_libros</th>\n",
       "      <th>Total_libros</th>\n",
       "    </tr>\n",
       "  </thead>\n",
       "  <tbody>\n",
       "    <tr>\n",
       "      <th>31</th>\n",
       "      <td>País Vasco</td>\n",
       "      <td>Publicaciones periódicas</td>\n",
       "      <td>67.933333</td>\n",
       "    </tr>\n",
       "    <tr>\n",
       "      <th>17</th>\n",
       "      <td>Cataluña</td>\n",
       "      <td>Publicaciones periódicas</td>\n",
       "      <td>58.266667</td>\n",
       "    </tr>\n",
       "    <tr>\n",
       "      <th>25</th>\n",
       "      <td>Madrid (Comunidad de)</td>\n",
       "      <td>Publicaciones periódicas</td>\n",
       "      <td>52.966667</td>\n",
       "    </tr>\n",
       "  </tbody>\n",
       "</table>\n",
       "</div>"
      ],
      "text/plain": [
       "       Comunidad autónoma     Grupo de gasto_libros  Total_libros\n",
       "31             País Vasco  Publicaciones periódicas     67.933333\n",
       "17               Cataluña  Publicaciones periódicas     58.266667\n",
       "25  Madrid (Comunidad de)  Publicaciones periódicas     52.966667"
      ]
     },
     "execution_count": 24,
     "metadata": {},
     "output_type": "execute_result"
    }
   ],
   "source": [
    "#Para poder consultar solo periodicos\n",
    "total_libros_reset = libros_total.reset_index()\n",
    "solo_periodicos = total_libros_reset[total_libros_reset[\"Grupo de gasto_libros\"].isin([\"Publicaciones periódicas\"])]\n",
    "\n",
    "solo_periodicos.nlargest(3,\"Total_libros\")"
   ]
  },
  {
   "cell_type": "markdown",
   "id": "ee4502cb",
   "metadata": {},
   "source": [
    "| Tipo de gasto               | ¿Qué mide?                                                                                      | ¿Quién destaca?                                                                  |\n",
    "| --------------------------- | ----------------------------------------------------------------------------------------------- | -------------------------------------------------------------------------------- |\n",
    "| **Gasto total**             | Suma del gasto de toda la población de la comunidad &rarr; depende del **tamaño de la población**    | Comunidades más pobladas (Cataluña, Madrid, Andalucía...)                        |\n",
    "| **Gasto medio por persona** | Promedio del gasto por habitante &rarr; refleja el **nivel de consumo individual o hábito cultural** | Comunidades con mayor interés relativo |\n"
   ]
  },
  {
   "cell_type": "markdown",
   "id": "2ab65591",
   "metadata": {},
   "source": [
    "En términos de gasto total (millones de euros), las comunidades más pobladas (Cataluña y Madrid) son también las que más consumen libros y publicaciones periódicas, lo que refleja el efecto directo del tamaño poblacional en el consumo. Andalucía, a pesar de ser la comunidad más poblada, ocupa el tercer lugar en gasto total en libros, lo que sugiere que otros factores, como el nivel económico o los hábitos culturales, también influyen.\n",
    "\n",
    "Por otro lado, el País Vasco destaca especialmente en publicaciones periódicas, a pesar de tener una población menor. Este resultado es coherente con los datos de gasto medio por persona, donde esta comunidad se situaba entre las primeras."
   ]
  },
  {
   "cell_type": "markdown",
   "id": "94d7c76e",
   "metadata": {},
   "source": [
    "## ANÁLISIS DE 🎭 ESPECTÁCULOS"
   ]
  },
  {
   "cell_type": "code",
   "execution_count": 25,
   "id": "9ef44170",
   "metadata": {},
   "outputs": [
    {
     "name": "stdout",
     "output_type": "stream",
     "text": [
      "GASTO MEDIO POR PERSONA (Euros): count    51.000000\n",
      "mean     25.382353\n",
      "std      14.107597\n",
      "min       5.300000\n",
      "25%      13.050000\n",
      "50%      22.300000\n",
      "75%      30.850000\n",
      "max      58.000000\n",
      "Name: Total_espectaculos, dtype: float64 \n",
      "TOTAL (Millones de euros) count     51.000000\n",
      "mean      67.615686\n",
      "std       72.230762\n",
      "min        1.900000\n",
      "25%       18.500000\n",
      "50%       42.500000\n",
      "75%       73.900000\n",
      "max      305.700000\n",
      "Name: Total_espectaculos, dtype: float64\n"
     ]
    }
   ],
   "source": [
    "# Filtrar por un indicador específico:\n",
    "indicador1 = \"GASTO MEDIO POR PERSONA (Euros)\"\n",
    "indicador2 = \"TOTAL (Millones de euros)\"\n",
    "\n",
    "espectaculos_filtrado1 = espectaculos[espectaculos[\"Indicador_espectaculos\"] == indicador1]\n",
    "espectaculos_filtrado2 = espectaculos[espectaculos[\"Indicador_espectaculos\"] == indicador2]\n",
    "\n",
    "print(\"GASTO MEDIO POR PERSONA (Euros):\",espectaculos_filtrado1[\"Total_espectaculos\"].describe(), \"\\nTOTAL (Millones de euros)\", espectaculos_filtrado2[\"Total_espectaculos\"].describe())\n"
   ]
  },
  {
   "cell_type": "markdown",
   "id": "5e7f85fe",
   "metadata": {},
   "source": [
    "BREVE ANÁLISIS TOTAL"
   ]
  },
  {
   "cell_type": "code",
   "execution_count": 26,
   "id": "e9a410d4",
   "metadata": {},
   "outputs": [
    {
     "name": "stdout",
     "output_type": "stream",
     "text": [
      "TOTAL (Millones de euros)\n"
     ]
    },
    {
     "data": {
      "text/plain": [
       "Comunidad autónoma\n",
       "Madrid (Comunidad de)           246.833333\n",
       "Andalucía                       181.133333\n",
       "Cataluña                        148.500000\n",
       "Comunitat Valenciana            103.766667\n",
       "Castilla y León                  75.100000\n",
       "Galicia                          67.000000\n",
       "País Vasco                       58.900000\n",
       "Balears (Illes)                  50.933333\n",
       "Aragón                           40.266667\n",
       "Castilla-La Mancha               32.300000\n",
       "Canarias                         30.466667\n",
       "Murcia (Región de)               28.766667\n",
       "Navarra (Comunidad Foral de)     26.266667\n",
       "Extremadura                      22.566667\n",
       "Asturias (Principado de)         14.333333\n",
       "Cantabria                        11.733333\n",
       "Rioja (La)                       10.600000\n",
       "Name: Total_espectaculos, dtype: float64"
      ]
     },
     "execution_count": 26,
     "metadata": {},
     "output_type": "execute_result"
    }
   ],
   "source": [
    "print(\"TOTAL (Millones de euros)\")\n",
    "espectaculos_total= espectaculos_filtrado2.groupby([\"Comunidad autónoma\"])[\"Total_espectaculos\"].mean()\n",
    "espectaculos_total.sort_values(ascending=False)"
   ]
  },
  {
   "cell_type": "markdown",
   "id": "503c212b",
   "metadata": {},
   "source": [
    "Nos vamos a centrar en GASTO MEDIO POR PERSONA.\n",
    "\n",
    "La media está en 25,38%"
   ]
  },
  {
   "cell_type": "code",
   "execution_count": 27,
   "id": "49e7bbce",
   "metadata": {},
   "outputs": [
    {
     "data": {
      "text/plain": [
       "Comunidad autónoma\n",
       "Balears (Illes)                 41.833333\n",
       "Navarra (Comunidad Foral de)    39.800000\n",
       "Madrid (Comunidad de)           36.466667\n",
       "Rioja (La)                      33.433333\n",
       "Castilla y León                 32.033333\n",
       "Aragón                          30.666667\n",
       "País Vasco                      27.100000\n",
       "Galicia                         25.033333\n",
       "Extremadura                     21.600000\n",
       "Andalucía                       21.300000\n",
       "Cantabria                       20.166667\n",
       "Comunitat Valenciana            20.166667\n",
       "Cataluña                        19.300000\n",
       "Murcia (Región de)              18.833333\n",
       "Castilla-La Mancha              15.700000\n",
       "Asturias (Principado de)        14.366667\n",
       "Canarias                        13.700000\n",
       "Name: Total_espectaculos, dtype: float64"
      ]
     },
     "execution_count": 27,
     "metadata": {},
     "output_type": "execute_result"
    }
   ],
   "source": [
    "espectaculos_comunidad= espectaculos_filtrado1.groupby([\"Comunidad autónoma\"])[\"Total_espectaculos\"].mean()\n",
    "espectaculos_comunidad.sort_values(ascending=False)"
   ]
  },
  {
   "cell_type": "code",
   "execution_count": 28,
   "id": "37970074",
   "metadata": {},
   "outputs": [],
   "source": [
    "espectaculos_comunidad = pd.DataFrame(espectaculos_comunidad)"
   ]
  },
  {
   "cell_type": "code",
   "execution_count": 29,
   "id": "2378292f",
   "metadata": {},
   "outputs": [
    {
     "data": {
      "image/png": "[encoded data removed]",
      "text/plain": [
       "<Figure size 640x480 with 1 Axes>"
      ]
     },
     "metadata": {},
     "output_type": "display_data"
    }
   ],
   "source": [
    "sns.barplot(data= espectaculos_comunidad.sort_values(by= \"Total_espectaculos\",ascending=False), x=\"Total_espectaculos\", y=\"Comunidad autónoma\", hue=\"Comunidad autónoma\", palette=\"spring\")\n",
    "plt.title(\"Gasto medio por persona y por comunidad autónoma\")\n",
    "plt.xlabel(\"Euros\")\n",
    "plt.ylabel(\"Comunidad Autónoma\")\n",
    "plt.show()"
   ]
  },
  {
   "cell_type": "markdown",
   "id": "b71cc9e6",
   "metadata": {},
   "source": [
    "**¿QUÉ SABEMOS?**\n",
    "\n",
    "POR GASTO MEDIO DE PERSONA entre 2021-2023\n",
    "\n",
    "Las 3 comunidades con *mayor* gasto son\n",
    "* Balears                \n",
    "* Navarra                    \n",
    "* Madrid\n",
    "\n",
    "Las 3 comunidades con *menor* gasto son\n",
    "* Canarias              \n",
    "* Asturias                \n",
    "* Castilla-La Mancha      "
   ]
  },
  {
   "cell_type": "markdown",
   "id": "a818dec6",
   "metadata": {},
   "source": [
    "**Conclusión inicial sobre espectáculos**\n",
    "\n",
    "Las comunidades con mayor gasto medio por persona en espectáculos fueron Islas Baleares, Navarra y la Comunidad de Madrid, lo que sugiere un mayor interés o poder adquisitivo destinado a este tipo de actividades culturales.\n",
    "\n",
    "En el extremo opuesto, Canarias, Asturias y Castilla-La Mancha registraron los valores más bajos de gasto medio"
   ]
  },
  {
   "cell_type": "markdown",
   "id": "ff81f0dd",
   "metadata": {},
   "source": [
    "**Comparación con total**\n",
    "\n",
    "Aunque Madrid lidera el gasto total en espectáculos, seguida por Andalucía y Cataluña, no ocupa el primer lugar en gasto medio por persona. Esto se debe a su gran población, que eleva el gasto total, pero diluye el gasto por habitante.\n",
    "\n",
    "Por el contrario, comunidades como Islas Baleares y Navarra, que tienen poblaciones más reducidas, se posicionan en los primeros puestos por gasto medio, a pesar de estar en la parte media o baja del ranking total. "
   ]
  },
  {
   "cell_type": "markdown",
   "id": "6fa73fd4",
   "metadata": {},
   "source": [
    "MAYOR GASTO MEDIO POR PERSONA\n",
    "| LIBROS            | ESPECTÁCULOS                              |\n",
    "| --------------------------- | ----------------------------------------- | \n",
    "| Castilla y Leon <br> País Vasco <br> Navarra <br><br> **Libros**  <br>  Castilla y Leon <br> Madrid <br> La Rioja  <br><br> **Publicaciones periódicas**  <br>  País Vasco <br> Navarra <br> Cantabria      | Balears <br> Navarra <br> Madrid| \n"
   ]
  },
  {
   "cell_type": "markdown",
   "id": "3f7d58c9",
   "metadata": {},
   "source": [
    "MENOR GASTO MEDIO POR PERSONA\n",
    "| LIBROS            | ESPECTÁCULOS                              |\n",
    "| --------------------------- | ----------------------------------------- | \n",
    "| Andalucía <br> Canarias <br> Castilla-La Mancha <br><br> **Libros**  <br>  Andalucía <br> Canarias <br> Cantabria  <br><br> **Publicaciones periódicas**  <br>  Murcia <br> Canarias <br> Castilla-La Mancha     | Canarias <br> Asturias <br> Castilla-La Mancha| "
   ]
  },
  {
   "cell_type": "markdown",
   "id": "bf38572a",
   "metadata": {},
   "source": [
    "## ANÁLISIS DE 🎓  EDUCACIÓN"
   ]
  },
  {
   "cell_type": "markdown",
   "id": "9e78a4af",
   "metadata": {},
   "source": [
    "El sexo en este caso no es relevante, pues no tenemos esa variable en las otras tablas y no podemos comparar."
   ]
  },
  {
   "cell_type": "code",
   "execution_count": 30,
   "id": "51ada837",
   "metadata": {},
   "outputs": [
    {
     "data": {
      "image/png": "[encoded data removed]",
      "text/plain": [
       "<Figure size 640x480 with 1 Axes>"
      ]
     },
     "metadata": {},
     "output_type": "display_data"
    }
   ],
   "source": [
    "sns.boxplot(\n",
    "    data=educacion,\n",
    "    x=\"Total_educacion\",\n",
    "    y=\"Comunidad autónoma\",\n",
    "    hue= \"Comunidad autónoma\",\n",
    "    palette=\"Set2\");"
   ]
  },
  {
   "cell_type": "code",
   "execution_count": 31,
   "id": "b6bb8a2c",
   "metadata": {},
   "outputs": [
    {
     "data": {
      "text/plain": [
       "array(['Analfabetos', 'Educación primaria', 'Educación superior',\n",
       "       'Estudios primarios incompletos',\n",
       "       'Primera etapa de Educación Secundaria y similar',\n",
       "       'Segunda etapa de educación secundaria con orientación profesional (incluye educación postsecundaria no superior)',\n",
       "       'Segunda etapa de educación secundaria, con orientación general'],\n",
       "      dtype=object)"
      ]
     },
     "execution_count": 31,
     "metadata": {},
     "output_type": "execute_result"
    }
   ],
   "source": [
    "educacion[\"Nivel de formación alcanzado\"].unique()"
   ]
  },
  {
   "cell_type": "markdown",
   "id": "91ef5e94",
   "metadata": {},
   "source": [
    "Vamos a dividir en **Educación superior** y **Educación inferior**\n",
    "\n",
    "SUPERIOR:\n",
    "* Educación superior &rarr; *Nivel universitario o equivalente*\n",
    "* Segunda etapa de educación secundaria con orientación profesional (incluye educación postsecundaria no superior) &rarr; *Formación Profesional de grado medio u otros estudios técnicos no universitarios*\n",
    "* Segunda etapa de educación secundaria, con orientación general &rarr; *Bachillerato*\n",
    "\n",
    "INFERIOR:\n",
    "* Analfabetos &rarr; *Personas que no saben leer ni escribir*\n",
    "* Estudios primarios incompletos &rarr; *Personas que empezaron pero no terminaron la educación primaria obligatoria*\n",
    "* Primera etapa de Educación Secundaria y similar &rarr; *ESO o equivalentes*"
   ]
  },
  {
   "cell_type": "code",
   "execution_count": 32,
   "id": "2fba3224",
   "metadata": {},
   "outputs": [
    {
     "data": {
      "text/plain": [
       "Comunidad autónoma\n",
       "País Vasco                      22.065741\n",
       "Madrid (Comunidad de)           21.918056\n",
       "Navarra (Comunidad Foral de)    20.572685\n",
       "Cantabria                       19.962500\n",
       "Asturias (Principado de)        18.843056\n",
       "Aragón                          18.841667\n",
       "Cataluña                        18.799537\n",
       "Canarias                        18.680556\n",
       "Balears (Illes)                 18.451852\n",
       "Rioja (La)                      18.406019\n",
       "Castilla y León                 17.778241\n",
       "Comunitat Valenciana            17.616204\n",
       "Galicia                         17.145833\n",
       "Andalucía                       16.502778\n",
       "Murcia (Región de)              16.159259\n",
       "Castilla - La Mancha            15.659259\n",
       "Extremadura                     14.753704\n",
       "Name: Total_educacion, dtype: float64"
      ]
     },
     "execution_count": 32,
     "metadata": {},
     "output_type": "execute_result"
    }
   ],
   "source": [
    "edu_sup = educacion[\n",
    "    (educacion[\"Nivel de formación alcanzado\"] == \"Educación superior\") |\n",
    "    (educacion[\"Nivel de formación alcanzado\"] == \"Segunda etapa de educación secundaria con orientación profesional (incluye educación postsecundaria no superior)\") |\n",
    "    (educacion[\"Nivel de formación alcanzado\"] == \"Segunda etapa de educación secundaria, con orientación general\")]\n",
    "edu_sup= edu_sup.groupby(\"Comunidad autónoma\")[\"Total_educacion\"].mean().sort_values(ascending=False)\n",
    "edu_sup"
   ]
  },
  {
   "cell_type": "code",
   "execution_count": 33,
   "id": "7f310c72",
   "metadata": {},
   "outputs": [
    {
     "data": {
      "text/plain": [
       "count    17.000000\n",
       "mean     18.362173\n",
       "std       2.024627\n",
       "min      14.753704\n",
       "25%      17.145833\n",
       "50%      18.451852\n",
       "75%      18.843056\n",
       "max      22.065741\n",
       "Name: Total_educacion, dtype: float64"
      ]
     },
     "execution_count": 33,
     "metadata": {},
     "output_type": "execute_result"
    }
   ],
   "source": [
    "edu_sup.describe()"
   ]
  },
  {
   "cell_type": "code",
   "execution_count": 34,
   "id": "83840509",
   "metadata": {},
   "outputs": [
    {
     "data": {
      "text/plain": [
       "Comunidad autónoma\n",
       "País Vasco                      22.065741\n",
       "Madrid (Comunidad de)           21.918056\n",
       "Navarra (Comunidad Foral de)    20.572685\n",
       "Cantabria                       19.962500\n",
       "Asturias (Principado de)        18.843056\n",
       "Aragón                          18.841667\n",
       "Cataluña                        18.799537\n",
       "Canarias                        18.680556\n",
       "Balears (Illes)                 18.451852\n",
       "Rioja (La)                      18.406019\n",
       "Name: Total_educacion, dtype: float64"
      ]
     },
     "execution_count": 34,
     "metadata": {},
     "output_type": "execute_result"
    }
   ],
   "source": [
    "#Superan la media\n",
    "edu_sup[edu_sup>18.36]"
   ]
  },
  {
   "cell_type": "code",
   "execution_count": 35,
   "id": "fc7d2fd0",
   "metadata": {},
   "outputs": [
    {
     "data": {
      "text/plain": [
       "Comunidad autónoma\n",
       "Extremadura                     7.465278\n",
       "Castilla - La Mancha            6.591667\n",
       "Andalucía                       6.537037\n",
       "Canarias                        5.993981\n",
       "Castilla y León                 5.902778\n",
       "Murcia (Región de)              5.715278\n",
       "Cataluña                        5.617130\n",
       "Aragón                          5.443056\n",
       "Navarra (Comunidad Foral de)    5.224537\n",
       "Galicia                         4.960185\n",
       "Balears (Illes)                 4.780093\n",
       "Comunitat Valenciana            4.561111\n",
       "País Vasco                      4.218981\n",
       "Madrid (Comunidad de)           4.194907\n",
       "Asturias (Principado de)        4.041204\n",
       "Cantabria                       3.187963\n",
       "Rioja (La)                      2.982870\n",
       "Name: Total_educacion, dtype: float64"
      ]
     },
     "execution_count": 35,
     "metadata": {},
     "output_type": "execute_result"
    }
   ],
   "source": [
    "edu_inf = educacion[\n",
    "    (educacion[\"Nivel de formación alcanzado\"] == \"Analfabetos\") |\n",
    "    (educacion[\"Nivel de formación alcanzado\"] == \"Educación primaria\") |\n",
    "    (educacion[\"Nivel de formación alcanzado\"] == \"Estudios primarios incompletos\")]\n",
    "edu_inf= edu_inf.groupby(\"Comunidad autónoma\")[\"Total_educacion\"].mean().sort_values(ascending=False)\n",
    "edu_inf"
   ]
  },
  {
   "cell_type": "code",
   "execution_count": 36,
   "id": "e40875d7",
   "metadata": {},
   "outputs": [
    {
     "data": {
      "text/plain": [
       "count    17.000000\n",
       "mean      5.142239\n",
       "std       1.207892\n",
       "min       2.982870\n",
       "25%       4.218981\n",
       "50%       5.224537\n",
       "75%       5.902778\n",
       "max       7.465278\n",
       "Name: Total_educacion, dtype: float64"
      ]
     },
     "execution_count": 36,
     "metadata": {},
     "output_type": "execute_result"
    }
   ],
   "source": [
    "edu_inf.describe()"
   ]
  },
  {
   "cell_type": "code",
   "execution_count": 37,
   "id": "d462e788",
   "metadata": {},
   "outputs": [
    {
     "data": {
      "text/plain": [
       "Comunidad autónoma\n",
       "Extremadura                     7.465278\n",
       "Castilla - La Mancha            6.591667\n",
       "Andalucía                       6.537037\n",
       "Canarias                        5.993981\n",
       "Castilla y León                 5.902778\n",
       "Murcia (Región de)              5.715278\n",
       "Cataluña                        5.617130\n",
       "Aragón                          5.443056\n",
       "Navarra (Comunidad Foral de)    5.224537\n",
       "Name: Total_educacion, dtype: float64"
      ]
     },
     "execution_count": 37,
     "metadata": {},
     "output_type": "execute_result"
    }
   ],
   "source": [
    "#Superan la media\n",
    "edu_inf[edu_inf>5.14]"
   ]
  },
  {
   "cell_type": "markdown",
   "id": "c8468bcf",
   "metadata": {},
   "source": [
    "**¿QUÉ SABEMOS?**\n",
    "\n",
    "Porcentajes respecto del total de cada comunidad\n",
    "\n",
    "Las 3 comunidades con mayor % en educación *superior* son\n",
    "* País Vasco                \n",
    "* Madrid                    \n",
    "* Navarra\n",
    "\n",
    "Las 3 comunidades con mayor % en educación *inferior*  son\n",
    "* Extremadura                           \n",
    "* Castilla-La Mancha\n",
    "* Andalucía     "
   ]
  },
  {
   "cell_type": "markdown",
   "id": "21c800ec",
   "metadata": {},
   "source": [
    "Comunidades como País Vasco, Madrid y Navarra muestran una mayor concentración de población con niveles de formación superior, lo que puede estar relacionado con una mayor oferta de centros educativos y mayores recursos económicos."
   ]
  },
  {
   "cell_type": "markdown",
   "id": "0482e3f2",
   "metadata": {},
   "source": [
    "## ANÁLISIS DE 📰 BIENES Y SERVICIOS CULTURALES"
   ]
  },
  {
   "cell_type": "code",
   "execution_count": 38,
   "id": "bee29e44",
   "metadata": {},
   "outputs": [
    {
     "name": "stdout",
     "output_type": "stream",
     "text": [
      "GASTO MEDIO POR PERSONA (Euros): count    51.000000\n",
      "mean     40.417647\n",
      "std      17.066221\n",
      "min      12.400000\n",
      "25%      25.450000\n",
      "50%      39.000000\n",
      "75%      52.750000\n",
      "max      81.700000\n",
      "Name: Total_bys, dtype: float64 \n",
      "TOTAL (Millones de euros) count     51.000000\n",
      "mean     113.354902\n",
      "std      119.993692\n",
      "min        4.700000\n",
      "25%       34.500000\n",
      "50%       74.400000\n",
      "75%      147.150000\n",
      "max      520.900000\n",
      "Name: Total_bys, dtype: float64\n"
     ]
    }
   ],
   "source": [
    "# Filtrar por un indicador específico:\n",
    "indicador1 = \"GASTO MEDIO POR PERSONA (Euros)\"\n",
    "indicador2 = \"TOTAL (Millones de euros)\"\n",
    "\n",
    "bys_filtrado1 = bys[bys[\"Indicador_bys\"] == indicador1]\n",
    "bys_filtrado1 = bys_filtrado1[bys_filtrado1[\"Grupo de gasto_bys\"]==\"Servicios culturales\"] #ya hemos analizado los libros y publicaciones periodicas con libros\n",
    "bys_filtrado2 = bys[bys[\"Indicador_bys\"] == indicador2]\n",
    "bys_filtrado2 = bys_filtrado2[bys_filtrado2[\"Grupo de gasto_bys\"]==\"Servicios culturales\"]\n",
    "\n",
    "print(\"GASTO MEDIO POR PERSONA (Euros):\",bys_filtrado1[\"Total_bys\"].describe(), \"\\nTOTAL (Millones de euros)\", bys_filtrado2[\"Total_bys\"].describe())\n"
   ]
  },
  {
   "cell_type": "markdown",
   "id": "38589cad",
   "metadata": {},
   "source": [
    "BREVE ANÁLISIS TOTAL"
   ]
  },
  {
   "cell_type": "code",
   "execution_count": 39,
   "id": "e2045901",
   "metadata": {},
   "outputs": [
    {
     "name": "stdout",
     "output_type": "stream",
     "text": [
      "TOTAL (Millones de euros)\n"
     ]
    },
    {
     "data": {
      "text/plain": [
       "Comunidad autónoma\n",
       "Madrid (Comunidad de)           408.733333\n",
       "Andalucía                       297.600000\n",
       "Cataluña                        277.900000\n",
       "Comunitat Valenciana            218.866667\n",
       "Castilla y León                 100.266667\n",
       "Galicia                          99.400000\n",
       "País Vasco                       98.566667\n",
       "Balears (Illes)                  61.800000\n",
       "Aragón                           61.566667\n",
       "Canarias                         58.900000\n",
       "Castilla-La Mancha               52.366667\n",
       "Murcia (Región de)               52.300000\n",
       "Navarra (Comunidad Foral de)     39.766667\n",
       "Extremadura                      34.266667\n",
       "Asturias (Principado de)         33.466667\n",
       "Rioja (La)                       16.133333\n",
       "Cantabria                        15.133333\n",
       "Name: Total_bys, dtype: float64"
      ]
     },
     "execution_count": 39,
     "metadata": {},
     "output_type": "execute_result"
    }
   ],
   "source": [
    "print(\"TOTAL (Millones de euros)\")\n",
    "bys_total= bys_filtrado2.groupby([\"Comunidad autónoma\"])[\"Total_bys\"].mean()\n",
    "bys_total.sort_values(ascending=False)"
   ]
  },
  {
   "cell_type": "markdown",
   "id": "afd5075d",
   "metadata": {},
   "source": [
    "Nos vamos a centrar en GASTO MEDIO POR PERSONA.\n",
    "\n",
    "La media está en 40,42%"
   ]
  },
  {
   "cell_type": "code",
   "execution_count": 40,
   "id": "4f701919",
   "metadata": {},
   "outputs": [
    {
     "data": {
      "text/plain": [
       "Comunidad autónoma\n",
       "Navarra (Comunidad Foral de)    60.366667\n",
       "Madrid (Comunidad de)           60.366667\n",
       "Rioja (La)                      50.866667\n",
       "Balears (Illes)                 50.800000\n",
       "Aragón                          46.933333\n",
       "País Vasco                      45.400000\n",
       "Castilla y León                 42.800000\n",
       "Comunitat Valenciana            42.700000\n",
       "Galicia                         37.166667\n",
       "Cataluña                        36.066667\n",
       "Andalucía                       35.000000\n",
       "Murcia (Región de)              34.233333\n",
       "Asturias (Principado de)        33.566667\n",
       "Extremadura                     32.900000\n",
       "Canarias                        26.433333\n",
       "Cantabria                       26.033333\n",
       "Castilla-La Mancha              25.466667\n",
       "Name: Total_bys, dtype: float64"
      ]
     },
     "execution_count": 40,
     "metadata": {},
     "output_type": "execute_result"
    }
   ],
   "source": [
    "bys_comunidad= bys_filtrado1.groupby([\"Comunidad autónoma\"])[\"Total_bys\"].mean()\n",
    "bys_comunidad.sort_values(ascending=False)"
   ]
  },
  {
   "cell_type": "code",
   "execution_count": 41,
   "id": "91a6ede0",
   "metadata": {},
   "outputs": [],
   "source": [
    "bys_comunidad = pd.DataFrame(bys_comunidad)"
   ]
  },
  {
   "cell_type": "code",
   "execution_count": 42,
   "id": "deee884e",
   "metadata": {},
   "outputs": [
    {
     "data": {
      "image/png": "[encoded data removed]",
      "text/plain": [
       "<Figure size 640x480 with 1 Axes>"
      ]
     },
     "metadata": {},
     "output_type": "display_data"
    }
   ],
   "source": [
    "sns.barplot(data= bys_comunidad.sort_values(by= \"Total_bys\",ascending=False), x=\"Total_bys\", y=\"Comunidad autónoma\", hue=\"Comunidad autónoma\", palette=\"rocket\")\n",
    "plt.title(\"Gasto medio por persona y por comunidad autónoma\")\n",
    "plt.xlabel(\"Euros\")\n",
    "plt.ylabel(\"Comunidad Autónoma\")\n",
    "plt.show()"
   ]
  },
  {
   "cell_type": "markdown",
   "id": "48e8b70d",
   "metadata": {},
   "source": [
    "**¿QUÉ SABEMOS?**\n",
    "\n",
    "POR GASTO MEDIO DE PERSONA entre 2021-2023\n",
    "\n",
    "Las 3 comunidades con *mayor* gasto son\n",
    "* Navarra               \n",
    "* Madrid                   \n",
    "* La Rioja\n",
    "\n",
    "Las 3 comunidades con *menor* gasto son               \n",
    "* Castilla-La Mancha   \n",
    "* Cantabria\n",
    "* Canarias"
   ]
  },
  {
   "cell_type": "markdown",
   "id": "de2dda45",
   "metadata": {},
   "source": [
    "**Conclusiones iniciales sobre consumo de servicios culturales**\n",
    "\n",
    "Navarra, Madrid y La Rioja se posicionaron como las comunidades con mayor gasto medio por persona en servicios culturales, lo que puede reflejar tanto un mayor interés por este tipo de consumo como una mayor capacidad económica individual para acceder a ellos.\n",
    "\n",
    "En contraste, Castilla-La Mancha, Cantabria y Canarias registraron los niveles más bajos de gasto medio, lo cual podría estar vinculado a limitaciones de oferta cultural, menor inversión pública o menor prioridad en el consumo personal de este tipo de servicios."
   ]
  },
  {
   "cell_type": "markdown",
   "id": "6dbc78b8",
   "metadata": {},
   "source": [
    "MAYOR GASTO MEDIO POR PERSONA\n",
    "| LIBROS            | ESPECTÁCULOS                              | SERVICIOS CULTURALES |\n",
    "| --------------------------- | ----------------------------------------- | -------------- | \n",
    "| Castilla y Leon <br> País Vasco <br> Navarra <br><br> **Libros**  <br>  Castilla y Leon <br> Madrid <br> La Rioja  <br><br> **Publicaciones periódicas**  <br>  País Vasco <br> Navarra <br> Cantabria      | Balears <br> Navarra <br> Madrid|  Navarra <br> Madrid <br> La Rioja |"
   ]
  },
  {
   "cell_type": "markdown",
   "id": "e2beca03",
   "metadata": {},
   "source": [
    "MENOR GASTO MEDIO POR PERSONA\n",
    "| LIBROS            | ESPECTÁCULOS                              | SERVICIOS CULTURALES |\n",
    "| --------------------------- | ----------------------------------------- | --------------------- | \n",
    "| Andalucía <br> Canarias <br> Castilla-La Mancha <br><br> **Libros**  <br>  Andalucía <br> Canarias <br> Cantabria  <br><br> **Publicaciones periódicas**  <br>  Murcia <br> Canarias <br> Castilla-La Mancha     | Canarias <br> Asturias <br> Castilla-La Mancha| Castilla-La Mancha <br> Cantabrias <br> Canarias |"
   ]
  },
  {
   "cell_type": "markdown",
   "id": "26d8c13a",
   "metadata": {},
   "source": [
    "## ANÁLISIS DE 💶 RENTA"
   ]
  },
  {
   "cell_type": "code",
   "execution_count": 49,
   "id": "1389da0b",
   "metadata": {},
   "outputs": [
    {
     "data": {
      "text/plain": [
       "count       51.000000\n",
       "mean     13097.882353\n",
       "std       2102.839239\n",
       "min       9500.000000\n",
       "25%      11338.500000\n",
       "50%      12913.000000\n",
       "75%      14438.000000\n",
       "max      18189.000000\n",
       "Name: Total_renta, dtype: float64"
      ]
     },
     "execution_count": 49,
     "metadata": {},
     "output_type": "execute_result"
    }
   ],
   "source": [
    "renta.Total_renta.describe()"
   ]
  },
  {
   "cell_type": "code",
   "execution_count": 50,
   "id": "f22f6b52",
   "metadata": {},
   "outputs": [],
   "source": [
    "renta_total= renta.groupby([\"Comunidad autónoma\"])[\"Total_renta\"].mean()\n",
    "renta_total= renta_total.sort_values(ascending=False)"
   ]
  },
  {
   "cell_type": "code",
   "execution_count": 51,
   "id": "bcd14c8e",
   "metadata": {},
   "outputs": [
    {
     "data": {
      "text/plain": [
       "Comunidad autónoma\n",
       "País Vasco                     16720.000000\n",
       "Navarra, Comunidad Foral de    15946.000000\n",
       "Madrid, Comunidad de           15782.666667\n",
       "Name: Total_renta, dtype: float64"
      ]
     },
     "execution_count": 51,
     "metadata": {},
     "output_type": "execute_result"
    }
   ],
   "source": [
    "renta_total.sort_values(ascending=False).nlargest(3)"
   ]
  },
  {
   "cell_type": "code",
   "execution_count": 52,
   "id": "1846dc49",
   "metadata": {},
   "outputs": [
    {
     "data": {
      "text/plain": [
       "Comunidad autónoma\n",
       "Extremadura          10332.000000\n",
       "Murcia, Región de    10625.666667\n",
       "Andalucía            10779.000000\n",
       "Name: Total_renta, dtype: float64"
      ]
     },
     "execution_count": 52,
     "metadata": {},
     "output_type": "execute_result"
    }
   ],
   "source": [
    "renta_total.sort_values(ascending=False).nsmallest(3)"
   ]
  },
  {
   "cell_type": "code",
   "execution_count": 53,
   "id": "24c5c7ac",
   "metadata": {},
   "outputs": [],
   "source": [
    "renta_total = pd.DataFrame(renta_total)"
   ]
  },
  {
   "cell_type": "code",
   "execution_count": 54,
   "id": "5610b2af",
   "metadata": {},
   "outputs": [
    {
     "data": {
      "image/png": "[encoded data removed]",
      "text/plain": [
       "<Figure size 640x480 with 1 Axes>"
      ]
     },
     "metadata": {},
     "output_type": "display_data"
    }
   ],
   "source": [
    "sns.barplot(data=renta_total, x='Total_renta', y='Comunidad autónoma')\n",
    "plt.xticks(rotation=45)\n",
    "plt.title('Renta anual media por persona por comunidad')\n",
    "plt.ylabel('Comunidad autónoma')\n",
    "plt.tight_layout()\n",
    "plt.show()"
   ]
  },
  {
   "cell_type": "markdown",
   "id": "42859dfa",
   "metadata": {},
   "source": [
    "**¿QUÉ SABEMOS?**\n",
    "\n",
    "RENTA MEDIA POR PERSONA\n",
    "\n",
    "Las 3 comunidades con *mayor* renta por persona son               \n",
    "* Pais Vasco \n",
    "* Navarra              \n",
    "* Madrid\n",
    "\n",
    "Las 3 comunidades con *menor* renta por persona son               \n",
    "* Extremadura\n",
    "* Murcia   \n",
    "* Andalucía"
   ]
  },
  {
   "cell_type": "markdown",
   "id": "d419ba88",
   "metadata": {},
   "source": [
    "Las comunidades con mayor renta —País Vasco, Navarra y Madrid— se sitúan en la parte norte y centro del país, y coinciden con zonas de alta actividad económica, empleo más estable y mayor urbanización. Por el contrario, Extremadura, Murcia y Andalucía presentan las rentas más bajas."
   ]
  },
  {
   "cell_type": "markdown",
   "id": "12ac0c95",
   "metadata": {},
   "source": [
    "## ANÁLISIS DE 💰 INGRESOS"
   ]
  },
  {
   "cell_type": "markdown",
   "id": "4e204da2",
   "metadata": {},
   "source": [
    "Gasto en bienes y servicios culturales por intervalos de ingresos mensuales del hogar"
   ]
  },
  {
   "cell_type": "code",
   "execution_count": 55,
   "id": "aa4bb017",
   "metadata": {},
   "outputs": [
    {
     "data": {
      "text/plain": [
       "array(['TOTAL (Millones de euros)', 'GASTO MEDIO POR PERSONA (Euros)',\n",
       "       'GASTO MEDIO POR HOGAR (Euros)',\n",
       "       'EN PORCENTAJE DEL GASTO EN EL TOTAL DE BIENES Y SERVICIOS'],\n",
       "      dtype=object)"
      ]
     },
     "execution_count": 55,
     "metadata": {},
     "output_type": "execute_result"
    }
   ],
   "source": [
    "ingresos[\"Indicador_ingresos\"].unique()"
   ]
  },
  {
   "cell_type": "code",
   "execution_count": 56,
   "id": "26460a9a",
   "metadata": {},
   "outputs": [
    {
     "data": {
      "text/plain": [
       "array(['Total', 'Menos de 1.000 euros', 'Entre 2.500 y 2.999 euros',\n",
       "       'Entre 2.000 y 2.499 euros', 'Entre 1.500 y 1.999 euros',\n",
       "       'Entre 1.000 y 1.499 euros', '3.000 y más euros'], dtype=object)"
      ]
     },
     "execution_count": 56,
     "metadata": {},
     "output_type": "execute_result"
    }
   ],
   "source": [
    "ingresos[\"Ingresos mensuales en el hogar\"].unique()"
   ]
  },
  {
   "cell_type": "code",
   "execution_count": 57,
   "id": "059a1548",
   "metadata": {},
   "outputs": [],
   "source": [
    "# Filtrar por un indicador específico:\n",
    "indicador1 = \"GASTO MEDIO POR PERSONA (Euros)\"\n",
    "\n",
    "ingresos_filtrado1 = ingresos[ingresos[\"Indicador_ingresos\"] == indicador1]"
   ]
  },
  {
   "cell_type": "code",
   "execution_count": 58,
   "id": "df0ff95e",
   "metadata": {},
   "outputs": [
    {
     "data": {
      "text/html": [
       "<div>\n",
       "<style scoped>\n",
       "    .dataframe tbody tr th:only-of-type {\n",
       "        vertical-align: middle;\n",
       "    }\n",
       "\n",
       "    .dataframe tbody tr th {\n",
       "        vertical-align: top;\n",
       "    }\n",
       "\n",
       "    .dataframe thead th {\n",
       "        text-align: right;\n",
       "    }\n",
       "</style>\n",
       "<table border=\"1\" class=\"dataframe\">\n",
       "  <thead>\n",
       "    <tr style=\"text-align: right;\">\n",
       "      <th></th>\n",
       "      <th>Ingresos mensuales en el hogar</th>\n",
       "      <th>Total_ingresos</th>\n",
       "    </tr>\n",
       "  </thead>\n",
       "  <tbody>\n",
       "    <tr>\n",
       "      <th>0</th>\n",
       "      <td>3.000 y más euros</td>\n",
       "      <td>305.100000</td>\n",
       "    </tr>\n",
       "    <tr>\n",
       "      <th>1</th>\n",
       "      <td>Total</td>\n",
       "      <td>235.666667</td>\n",
       "    </tr>\n",
       "    <tr>\n",
       "      <th>2</th>\n",
       "      <td>Entre 2.500 y 2.999 euros</td>\n",
       "      <td>230.166667</td>\n",
       "    </tr>\n",
       "    <tr>\n",
       "      <th>3</th>\n",
       "      <td>Entre 2.000 y 2.499 euros</td>\n",
       "      <td>223.666667</td>\n",
       "    </tr>\n",
       "    <tr>\n",
       "      <th>4</th>\n",
       "      <td>Entre 1.500 y 1.999 euros</td>\n",
       "      <td>211.200000</td>\n",
       "    </tr>\n",
       "    <tr>\n",
       "      <th>5</th>\n",
       "      <td>Entre 1.000 y 1.499 euros</td>\n",
       "      <td>173.366667</td>\n",
       "    </tr>\n",
       "    <tr>\n",
       "      <th>6</th>\n",
       "      <td>Menos de 1.000 euros</td>\n",
       "      <td>148.733333</td>\n",
       "    </tr>\n",
       "  </tbody>\n",
       "</table>\n",
       "</div>"
      ],
      "text/plain": [
       "  Ingresos mensuales en el hogar  Total_ingresos\n",
       "0              3.000 y más euros      305.100000\n",
       "1                          Total      235.666667\n",
       "2      Entre 2.500 y 2.999 euros      230.166667\n",
       "3      Entre 2.000 y 2.499 euros      223.666667\n",
       "4      Entre 1.500 y 1.999 euros      211.200000\n",
       "5      Entre 1.000 y 1.499 euros      173.366667\n",
       "6           Menos de 1.000 euros      148.733333"
      ]
     },
     "execution_count": 58,
     "metadata": {},
     "output_type": "execute_result"
    }
   ],
   "source": [
    "ingresos_mensuales= ingresos_filtrado1.groupby('Ingresos mensuales en el hogar')['Total_ingresos'].mean().sort_values(ascending=False).reset_index()\n",
    "ingresos_mensuales"
   ]
  },
  {
   "cell_type": "code",
   "execution_count": 59,
   "id": "477fa40b",
   "metadata": {},
   "outputs": [
    {
     "data": {
      "text/html": [
       "<div>\n",
       "<style scoped>\n",
       "    .dataframe tbody tr th:only-of-type {\n",
       "        vertical-align: middle;\n",
       "    }\n",
       "\n",
       "    .dataframe tbody tr th {\n",
       "        vertical-align: top;\n",
       "    }\n",
       "\n",
       "    .dataframe thead th {\n",
       "        text-align: right;\n",
       "    }\n",
       "</style>\n",
       "<table border=\"1\" class=\"dataframe\">\n",
       "  <thead>\n",
       "    <tr style=\"text-align: right;\">\n",
       "      <th></th>\n",
       "      <th>Ingreso mensual</th>\n",
       "      <th>Ingreso medio estimado</th>\n",
       "      <th>Gasto cultural</th>\n",
       "      <th>% destinado a cultura</th>\n",
       "    </tr>\n",
       "  </thead>\n",
       "  <tbody>\n",
       "    <tr>\n",
       "      <th>0</th>\n",
       "      <td>- 1.000€</td>\n",
       "      <td>750</td>\n",
       "      <td>148.73</td>\n",
       "      <td>19.830667</td>\n",
       "    </tr>\n",
       "    <tr>\n",
       "      <th>1</th>\n",
       "      <td>1.000 - 1.499€</td>\n",
       "      <td>1250</td>\n",
       "      <td>173.37</td>\n",
       "      <td>13.869600</td>\n",
       "    </tr>\n",
       "    <tr>\n",
       "      <th>2</th>\n",
       "      <td>1.500 - 1.999€</td>\n",
       "      <td>1750</td>\n",
       "      <td>211.20</td>\n",
       "      <td>12.068571</td>\n",
       "    </tr>\n",
       "    <tr>\n",
       "      <th>3</th>\n",
       "      <td>2.000 - 2.499€</td>\n",
       "      <td>2250</td>\n",
       "      <td>223.67</td>\n",
       "      <td>9.940889</td>\n",
       "    </tr>\n",
       "    <tr>\n",
       "      <th>4</th>\n",
       "      <td>2.500 - 2.999€</td>\n",
       "      <td>2750</td>\n",
       "      <td>230.17</td>\n",
       "      <td>8.369818</td>\n",
       "    </tr>\n",
       "    <tr>\n",
       "      <th>5</th>\n",
       "      <td>+3.000€</td>\n",
       "      <td>3250</td>\n",
       "      <td>305.10</td>\n",
       "      <td>9.387692</td>\n",
       "    </tr>\n",
       "  </tbody>\n",
       "</table>\n",
       "</div>"
      ],
      "text/plain": [
       "  Ingreso mensual  Ingreso medio estimado  Gasto cultural  \\\n",
       "0        - 1.000€                     750          148.73   \n",
       "1  1.000 - 1.499€                    1250          173.37   \n",
       "2  1.500 - 1.999€                    1750          211.20   \n",
       "3  2.000 - 2.499€                    2250          223.67   \n",
       "4  2.500 - 2.999€                    2750          230.17   \n",
       "5         +3.000€                    3250          305.10   \n",
       "\n",
       "   % destinado a cultura  \n",
       "0              19.830667  \n",
       "1              13.869600  \n",
       "2              12.068571  \n",
       "3               9.940889  \n",
       "4               8.369818  \n",
       "5               9.387692  "
      ]
     },
     "execution_count": 59,
     "metadata": {},
     "output_type": "execute_result"
    }
   ],
   "source": [
    "# Datos\n",
    "data = {\n",
    "    'Ingreso mensual': [\n",
    "        '- 1.000€',\n",
    "        '1.000 - 1.499€',\n",
    "        '1.500 - 1.999€',\n",
    "        '2.000 - 2.499€',\n",
    "        '2.500 - 2.999€',\n",
    "        '+3.000€'\n",
    "    ],\n",
    "    'Ingreso medio estimado': [750, 1250, 1750, 2250, 2750, 3250], \n",
    "    'Gasto cultural': [148.73, 173.37, 211.20, 223.67, 230.17, 305.10]\n",
    "}\n",
    "\n",
    "# Crear DataFrame\n",
    "df = pd.DataFrame(data)\n",
    "\n",
    "# Calcular porcentaje del sueldo destinado a cultura\n",
    "df['% destinado a cultura'] = (df['Gasto cultural'] / df['Ingreso medio estimado']) * 100\n",
    "\n",
    "# Mostrar tabla\n",
    "df\n"
   ]
  },
  {
   "cell_type": "code",
   "execution_count": 60,
   "id": "e952addf",
   "metadata": {},
   "outputs": [
    {
     "data": {
      "image/png": "[encoded data removed]",
      "text/plain": [
       "<Figure size 1000x600 with 1 Axes>"
      ]
     },
     "metadata": {},
     "output_type": "display_data"
    }
   ],
   "source": [
    "# Gráfica\n",
    "plt.figure(figsize=(10, 6))\n",
    "plt.bar(df['Ingreso mensual'], df['% destinado a cultura'], color='skyblue', alpha = 0.7)\n",
    "plt.xlabel('Porcentaje del sueldo destinado a cultura (%)')\n",
    "plt.title('Porcentaje del ingreso mensual destinado a servicios culturales')\n",
    "plt.tight_layout()\n",
    "plt.show()"
   ]
  },
  {
   "cell_type": "markdown",
   "id": "045ee3fb",
   "metadata": {},
   "source": [
    "El gasto en servicios culturales va creciendo a medida que el ingreso es mayor, pero son los menores ingresos destinan un porcentaje mayor de su sueldo a servicios culturales. "
   ]
  },
  {
   "cell_type": "markdown",
   "id": "0770135b",
   "metadata": {},
   "source": [
    "## ANÁLISIS DE 📊 CARACTERÍSTICAS"
   ]
  },
  {
   "cell_type": "code",
   "execution_count": 61,
   "id": "120f64df",
   "metadata": {},
   "outputs": [
    {
     "data": {
      "text/plain": [
       "array(['TOTAL (Millones de euros)', 'GASTO MEDIO POR PERSONA (Euros)',\n",
       "       'GASTO MEDIO POR HOGAR (Euros)',\n",
       "       'EN PORCENTAJE DEL GASTO EN EL TOTAL DE BIENES Y SERVICIOS'],\n",
       "      dtype=object)"
      ]
     },
     "execution_count": 61,
     "metadata": {},
     "output_type": "execute_result"
    }
   ],
   "source": [
    "caracteristicas.Indicador_caracteristicas.unique()"
   ]
  },
  {
   "cell_type": "code",
   "execution_count": 62,
   "id": "f6628ca1",
   "metadata": {},
   "outputs": [],
   "source": [
    "caract= caracteristicas.copy()"
   ]
  },
  {
   "cell_type": "code",
   "execution_count": 63,
   "id": "68e197c5",
   "metadata": {},
   "outputs": [
    {
     "data": {
      "text/plain": [
       "array(['Tipo de hogar: Un adulto con hijos',\n",
       "       'Tipo de hogar: Persona sola', 'Tipo de hogar: Pareja sin hijos',\n",
       "       'Tipo de hogar: Pareja con un hijo',\n",
       "       'Tipo de hogar: Pareja con tres o más hijos',\n",
       "       'Tipo de hogar: Pareja con dos hijos',\n",
       "       'Tipo de hogar: Otro tipo de hogares', 'Situación laboral: Parado',\n",
       "       'Situación laboral: Otros inactivos', 'Situación laboral: Ocupado',\n",
       "       'Situación laboral: Jubilado o retirado',\n",
       "       'Nivel de estudios: Educación superior o equivalente',\n",
       "       'Nivel de estudios:  Segunda etapa de educación secundaria',\n",
       "       'Nivel de estudios:  Primera etapa de ed. secundaria e inferior',\n",
       "       'Mujeres', 'Hombres', 'Grupo de edad: de 65 años en adelante',\n",
       "       'Grupo de edad: de 45 a 64 años', 'Grupo de edad: de 30 a 44 años',\n",
       "       'Grupo de edad: de 16 a 29 años', 'Estado civil: Viudo',\n",
       "       'Estado civil: Soltero', 'Estado civil: Separado',\n",
       "       'Estado civil: Divorciado', 'Estado civil: Casado'], dtype=object)"
      ]
     },
     "execution_count": 63,
     "metadata": {},
     "output_type": "execute_result"
    }
   ],
   "source": [
    "caracteristicas[\"Características del sustentador principal\"].unique()"
   ]
  },
  {
   "cell_type": "markdown",
   "id": "b673d4f8",
   "metadata": {},
   "source": [
    "Vamos a fijarnos en el tipo de hogar y el grupo de edad"
   ]
  },
  {
   "cell_type": "code",
   "execution_count": 64,
   "id": "2052ef18",
   "metadata": {},
   "outputs": [],
   "source": [
    "#TIPO DE HOGAR\n",
    "\n",
    "def calcular_media_por_hijos(df, indicador):\n",
    "    # Filtrar por el indicador \n",
    "    df_filtrado = df[df[\"Indicador_caracteristicas\"] == indicador].copy()\n",
    "\n",
    "    # Limpiar la columna de características\n",
    "    df_filtrado['Caracteristicas'] = df_filtrado['Características del sustentador principal'].str.strip()\n",
    "\n",
    "    # Identificar si el tipo de hogar incluye hijos o no\n",
    "    df_filtrado['Hijos'] = df_filtrado['Caracteristicas'].where(df_filtrado['Caracteristicas'].str.startswith('Tipo de hogar'))\n",
    "    df_filtrado['Hijos'] = df_filtrado['Hijos'].str.contains(r'con.*hijo')\n",
    "\n",
    "    # Calcular la media del total de características por grupo\n",
    "    return df_filtrado.groupby(\"Hijos\")[\"Total_caracteristicas\"].mean()"
   ]
  },
  {
   "cell_type": "code",
   "execution_count": 65,
   "id": "c3b2e4e8",
   "metadata": {},
   "outputs": [
    {
     "name": "stdout",
     "output_type": "stream",
     "text": [
      "TOTAL (Millones de euros)\n",
      "Hijos\n",
      "False    1667.944444\n",
      "True     1535.433333\n",
      "Name: Total_caracteristicas, dtype: float64\n",
      "GASTO MEDIO POR PERSONA (Euros)\n",
      "Hijos\n",
      "False    257.033333\n",
      "True     221.591667\n",
      "Name: Total_caracteristicas, dtype: float64\n",
      "GASTO MEDIO POR HOGAR (Euros)\n",
      "Hijos\n",
      "False    508.722222\n",
      "True     805.666667\n",
      "Name: Total_caracteristicas, dtype: float64\n",
      "EN PORCENTAJE DEL GASTO EN EL TOTAL DE BIENES Y SERVICIOS\n",
      "Hijos\n",
      "False    1.744444\n",
      "True     2.141667\n",
      "Name: Total_caracteristicas, dtype: float64\n"
     ]
    }
   ],
   "source": [
    "lista_indicadores = ['TOTAL (Millones de euros)', 'GASTO MEDIO POR PERSONA (Euros)', 'GASTO MEDIO POR HOGAR (Euros)', 'EN PORCENTAJE DEL GASTO EN EL TOTAL DE BIENES Y SERVICIOS']\n",
    "for indicador in lista_indicadores:\n",
    "   medias= calcular_media_por_hijos(caract, indicador)\n",
    "   print(indicador)\n",
    "   print(medias)"
   ]
  },
  {
   "cell_type": "markdown",
   "id": "941bd28d",
   "metadata": {},
   "source": [
    "**Conclusiones inciales**\n",
    "\n",
    "Los hogares sin hijos gastan más en total y por persona en cultura, pero menos por hogar.\n",
    "\n",
    "Los hogares con hijos, aunque gastan menos por persona, gastan más por hogar, lo que sugiere un mayor consumo cultural agregado por necesidades familiares.\n"
   ]
  },
  {
   "cell_type": "code",
   "execution_count": 66,
   "id": "acd50778",
   "metadata": {},
   "outputs": [],
   "source": [
    "#EDAD\n",
    "def calcular_media_por_edad(df, indicador):\n",
    "    # Filtrar por el indicador dado\n",
    "    df_filtrado = df[df[\"Indicador_caracteristicas\"] == indicador].copy()\n",
    "\n",
    "    # Limpiar la columna de características\n",
    "    df_filtrado['Caracteristicas'] = df_filtrado['Características del sustentador principal'].str.strip()\n",
    "\n",
    "    # Extraer grupo de edad\n",
    "    df_filtrado['Edad'] = df_filtrado['Caracteristicas'].where(df_filtrado['Caracteristicas'].str.startswith('Grupo de edad'))\n",
    "\n",
    "    # Clasificar en categoría de edad\n",
    "    condiciones = [\n",
    "        df_filtrado['Edad'].str.contains(\"65\", na=False), #na=False para que los NaN sean False y no de error\n",
    "        df_filtrado['Edad'].str.contains(\"45\", na=False),\n",
    "        df_filtrado['Edad'].str.contains(\"30\", na=False),  \n",
    "        df_filtrado['Edad'].str.contains(\"16\", na=False)]\n",
    "    \n",
    "    categorias = ['Seniors', 'Adultos mayores', 'Adultos', 'Jóvenes']\n",
    "\n",
    "    df_filtrado['Grupo_edad'] = np.select(condiciones, categorias, default=None) #default=None para que no tenga en cuenta otras categorias\n",
    "\n",
    "    # Calcular la media del total de características por grupo de edad\n",
    "    return df_filtrado.groupby('Grupo_edad')[\"Total_caracteristicas\"].mean()"
   ]
  },
  {
   "cell_type": "code",
   "execution_count": 67,
   "id": "699d3394",
   "metadata": {},
   "outputs": [
    {
     "name": "stdout",
     "output_type": "stream",
     "text": [
      "TOTAL (Millones de euros)\n",
      "Grupo_edad\n",
      "Adultos            3411.366667\n",
      "Adultos mayores    5490.766667\n",
      "Jóvenes             374.633333\n",
      "Seniors            1868.733333\n",
      "Name: Total_caracteristicas, dtype: float64\n",
      "GASTO MEDIO POR PERSONA (Euros)\n",
      "Grupo_edad\n",
      "Adultos            271.800000\n",
      "Adultos mayores    237.500000\n",
      "Jóvenes            328.966667\n",
      "Seniors            178.633333\n",
      "Name: Total_caracteristicas, dtype: float64\n",
      "GASTO MEDIO POR HOGAR (Euros)\n",
      "Grupo_edad\n",
      "Adultos            728.300000\n",
      "Adultos mayores    668.933333\n",
      "Jóvenes            666.833333\n",
      "Seniors            332.900000\n",
      "Name: Total_caracteristicas, dtype: float64\n",
      "EN PORCENTAJE DEL GASTO EN EL TOTAL DE BIENES Y SERVICIOS\n",
      "Grupo_edad\n",
      "Adultos            2.400000\n",
      "Adultos mayores    1.933333\n",
      "Jóvenes            2.633333\n",
      "Seniors            1.233333\n",
      "Name: Total_caracteristicas, dtype: float64\n"
     ]
    }
   ],
   "source": [
    "for indicador in lista_indicadores:\n",
    "    medias= calcular_media_por_edad(caract, indicador)\n",
    "    print(indicador)\n",
    "    print(medias)"
   ]
  },
  {
   "cell_type": "markdown",
   "id": "5d08e7aa",
   "metadata": {},
   "source": [
    "**Conclusiones inciales**\n",
    "\n",
    "Los adultos mayores (45-64 años) tienen el mayor gasto total en cultura, probablemente por volumen de población.\n",
    "\n",
    "Jóvenes (16-29 años) y adultos (30-44 años) muestran un mayor gasto medio por persona y mayor porcentaje del gasto total, reflejando un mayor interés o acceso a cultura.\n",
    "\n",
    "Los seniors (+65) gastan menos tanto en términos absolutos como relativos."
   ]
  }
 ],
 "metadata": {
  "kernelspec": {
   "display_name": "Python 3",
   "language": "python",
   "name": "python3"
  },
  "language_info": {
   "codemirror_mode": {
    "name": "ipython",
    "version": 3
   },
   "file_extension": ".py",
   "mimetype": "text/x-python",
   "name": "python",
   "nbconvert_exporter": "python",
   "pygments_lexer": "ipython3",
   "version": "3.13.1"
  }
 },
 "nbformat": 4,
 "nbformat_minor": 5
}
